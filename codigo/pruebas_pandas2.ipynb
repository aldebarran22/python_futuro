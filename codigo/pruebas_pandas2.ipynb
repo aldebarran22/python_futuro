{
 "cells": [
  {
   "cell_type": "markdown",
   "id": "1b837be0",
   "metadata": {},
   "source": [
    "### Pruebas con la librería pandas"
   ]
  },
  {
   "cell_type": "code",
   "execution_count": 24,
   "id": "79894996",
   "metadata": {},
   "outputs": [],
   "source": [
    "import pandas as pd\n",
    "from os.path import isfile\n",
    "import sqlite3 as db"
   ]
  },
  {
   "cell_type": "code",
   "execution_count": 2,
   "id": "3a4dce93",
   "metadata": {},
   "outputs": [
    {
     "data": {
      "text/html": [
       "<div>\n",
       "<style scoped>\n",
       "    .dataframe tbody tr th:only-of-type {\n",
       "        vertical-align: middle;\n",
       "    }\n",
       "\n",
       "    .dataframe tbody tr th {\n",
       "        vertical-align: top;\n",
       "    }\n",
       "\n",
       "    .dataframe thead th {\n",
       "        text-align: right;\n",
       "    }\n",
       "</style>\n",
       "<table border=\"1\" class=\"dataframe\">\n",
       "  <thead>\n",
       "    <tr style=\"text-align: right;\">\n",
       "      <th></th>\n",
       "      <th>idpedido</th>\n",
       "      <th>cliente</th>\n",
       "      <th>idempleado</th>\n",
       "      <th>idempresa</th>\n",
       "      <th>importe</th>\n",
       "      <th>pais</th>\n",
       "    </tr>\n",
       "  </thead>\n",
       "  <tbody>\n",
       "    <tr>\n",
       "      <th>0</th>\n",
       "      <td>10248</td>\n",
       "      <td>WILMK</td>\n",
       "      <td>5</td>\n",
       "      <td>3</td>\n",
       "      <td>32.38</td>\n",
       "      <td>Finlandia</td>\n",
       "    </tr>\n",
       "    <tr>\n",
       "      <th>1</th>\n",
       "      <td>10249</td>\n",
       "      <td>TOMSP</td>\n",
       "      <td>6</td>\n",
       "      <td>1</td>\n",
       "      <td>11.61</td>\n",
       "      <td>Alemania</td>\n",
       "    </tr>\n",
       "    <tr>\n",
       "      <th>2</th>\n",
       "      <td>10250</td>\n",
       "      <td>HANAR</td>\n",
       "      <td>4</td>\n",
       "      <td>2</td>\n",
       "      <td>65.83</td>\n",
       "      <td>Brasil</td>\n",
       "    </tr>\n",
       "    <tr>\n",
       "      <th>3</th>\n",
       "      <td>10251</td>\n",
       "      <td>VICTE</td>\n",
       "      <td>3</td>\n",
       "      <td>1</td>\n",
       "      <td>41.34</td>\n",
       "      <td>Francia</td>\n",
       "    </tr>\n",
       "    <tr>\n",
       "      <th>4</th>\n",
       "      <td>10252</td>\n",
       "      <td>SUPRD</td>\n",
       "      <td>4</td>\n",
       "      <td>2</td>\n",
       "      <td>51.30</td>\n",
       "      <td>Belgica</td>\n",
       "    </tr>\n",
       "  </tbody>\n",
       "</table>\n",
       "</div>"
      ],
      "text/plain": [
       "   idpedido cliente  idempleado  idempresa  importe       pais\n",
       "0     10248   WILMK           5          3    32.38  Finlandia\n",
       "1     10249   TOMSP           6          1    11.61   Alemania\n",
       "2     10250   HANAR           4          2    65.83     Brasil\n",
       "3     10251   VICTE           3          1    41.34    Francia\n",
       "4     10252   SUPRD           4          2    51.30    Belgica"
      ]
     },
     "execution_count": 2,
     "metadata": {},
     "output_type": "execute_result"
    }
   ],
   "source": [
    "dt = pd.read_excel(\"pedidos2.xlsx\")\n",
    "dt.head()"
   ]
  },
  {
   "cell_type": "code",
   "execution_count": null,
   "id": "772cfc10",
   "metadata": {},
   "outputs": [],
   "source": []
  },
  {
   "cell_type": "code",
   "execution_count": 3,
   "id": "a7597a1c",
   "metadata": {},
   "outputs": [
    {
     "data": {
      "text/html": [
       "<div>\n",
       "<style scoped>\n",
       "    .dataframe tbody tr th:only-of-type {\n",
       "        vertical-align: middle;\n",
       "    }\n",
       "\n",
       "    .dataframe tbody tr th {\n",
       "        vertical-align: top;\n",
       "    }\n",
       "\n",
       "    .dataframe thead th {\n",
       "        text-align: right;\n",
       "    }\n",
       "</style>\n",
       "<table border=\"1\" class=\"dataframe\">\n",
       "  <thead>\n",
       "    <tr style=\"text-align: right;\">\n",
       "      <th></th>\n",
       "      <th>idpedido</th>\n",
       "      <th>cliente</th>\n",
       "      <th>idempleado</th>\n",
       "      <th>idempresa</th>\n",
       "      <th>importe</th>\n",
       "      <th>pais</th>\n",
       "    </tr>\n",
       "  </thead>\n",
       "  <tbody>\n",
       "    <tr>\n",
       "      <th>825</th>\n",
       "      <td>11073</td>\n",
       "      <td>PERIC</td>\n",
       "      <td>2</td>\n",
       "      <td>2</td>\n",
       "      <td>24.95</td>\n",
       "      <td>Mexico</td>\n",
       "    </tr>\n",
       "    <tr>\n",
       "      <th>826</th>\n",
       "      <td>11074</td>\n",
       "      <td>SIMOB</td>\n",
       "      <td>7</td>\n",
       "      <td>2</td>\n",
       "      <td>18.44</td>\n",
       "      <td>Dinamarca</td>\n",
       "    </tr>\n",
       "    <tr>\n",
       "      <th>827</th>\n",
       "      <td>11075</td>\n",
       "      <td>RICSU</td>\n",
       "      <td>8</td>\n",
       "      <td>2</td>\n",
       "      <td>6.19</td>\n",
       "      <td>Suiza</td>\n",
       "    </tr>\n",
       "    <tr>\n",
       "      <th>828</th>\n",
       "      <td>11076</td>\n",
       "      <td>BONAP</td>\n",
       "      <td>4</td>\n",
       "      <td>2</td>\n",
       "      <td>38.28</td>\n",
       "      <td>Francia</td>\n",
       "    </tr>\n",
       "    <tr>\n",
       "      <th>829</th>\n",
       "      <td>11077</td>\n",
       "      <td>RATTC</td>\n",
       "      <td>1</td>\n",
       "      <td>2</td>\n",
       "      <td>8.53</td>\n",
       "      <td>Estados Unidos</td>\n",
       "    </tr>\n",
       "  </tbody>\n",
       "</table>\n",
       "</div>"
      ],
      "text/plain": [
       "     idpedido cliente  idempleado  idempresa  importe            pais\n",
       "825     11073   PERIC           2          2    24.95          Mexico\n",
       "826     11074   SIMOB           7          2    18.44       Dinamarca\n",
       "827     11075   RICSU           8          2     6.19           Suiza\n",
       "828     11076   BONAP           4          2    38.28         Francia\n",
       "829     11077   RATTC           1          2     8.53  Estados Unidos"
      ]
     },
     "execution_count": 3,
     "metadata": {},
     "output_type": "execute_result"
    }
   ],
   "source": [
    "dt.tail()"
   ]
  },
  {
   "cell_type": "code",
   "execution_count": 18,
   "id": "f3519955",
   "metadata": {},
   "outputs": [],
   "source": [
    "dt2 = dt[(dt.pais == 'Suiza') & (dt.importe > 130)]\n",
    "dt2.to_json(\"paises/suiza.json\", orient=\"records\")"
   ]
  },
  {
   "cell_type": "code",
   "execution_count": 4,
   "id": "80e3fa1a",
   "metadata": {},
   "outputs": [
    {
     "data": {
      "text/plain": [
       "0      32.38\n",
       "1      11.61\n",
       "2      65.83\n",
       "3      41.34\n",
       "4      51.30\n",
       "       ...  \n",
       "825    24.95\n",
       "826    18.44\n",
       "827     6.19\n",
       "828    38.28\n",
       "829     8.53\n",
       "Name: importe, Length: 830, dtype: float64"
      ]
     },
     "execution_count": 4,
     "metadata": {},
     "output_type": "execute_result"
    }
   ],
   "source": [
    "dt.importe"
   ]
  },
  {
   "cell_type": "code",
   "execution_count": 5,
   "id": "0cf68296",
   "metadata": {},
   "outputs": [
    {
     "data": {
      "text/plain": [
       "(830, 6)"
      ]
     },
     "execution_count": 5,
     "metadata": {},
     "output_type": "execute_result"
    }
   ],
   "source": [
    "dt.shape"
   ]
  },
  {
   "cell_type": "code",
   "execution_count": 6,
   "id": "6c0d9da2",
   "metadata": {},
   "outputs": [
    {
     "name": "stdout",
     "output_type": "stream",
     "text": [
      "<class 'pandas.core.frame.DataFrame'>\n",
      "RangeIndex: 830 entries, 0 to 829\n",
      "Data columns (total 6 columns):\n",
      " #   Column      Non-Null Count  Dtype  \n",
      "---  ------      --------------  -----  \n",
      " 0   idpedido    830 non-null    int64  \n",
      " 1   cliente     830 non-null    object \n",
      " 2   idempleado  830 non-null    int64  \n",
      " 3   idempresa   830 non-null    int64  \n",
      " 4   importe     830 non-null    float64\n",
      " 5   pais        830 non-null    object \n",
      "dtypes: float64(1), int64(3), object(2)\n",
      "memory usage: 39.0+ KB\n"
     ]
    }
   ],
   "source": [
    "dt.info()\n"
   ]
  },
  {
   "cell_type": "code",
   "execution_count": 7,
   "id": "d099de0c",
   "metadata": {},
   "outputs": [
    {
     "data": {
      "text/html": [
       "<div>\n",
       "<style scoped>\n",
       "    .dataframe tbody tr th:only-of-type {\n",
       "        vertical-align: middle;\n",
       "    }\n",
       "\n",
       "    .dataframe tbody tr th {\n",
       "        vertical-align: top;\n",
       "    }\n",
       "\n",
       "    .dataframe thead th {\n",
       "        text-align: right;\n",
       "    }\n",
       "</style>\n",
       "<table border=\"1\" class=\"dataframe\">\n",
       "  <thead>\n",
       "    <tr style=\"text-align: right;\">\n",
       "      <th></th>\n",
       "      <th>idpedido</th>\n",
       "      <th>idempleado</th>\n",
       "      <th>idempresa</th>\n",
       "      <th>importe</th>\n",
       "    </tr>\n",
       "  </thead>\n",
       "  <tbody>\n",
       "    <tr>\n",
       "      <th>count</th>\n",
       "      <td>830.000000</td>\n",
       "      <td>830.000000</td>\n",
       "      <td>830.000000</td>\n",
       "      <td>830.000000</td>\n",
       "    </tr>\n",
       "    <tr>\n",
       "      <th>mean</th>\n",
       "      <td>10662.500000</td>\n",
       "      <td>4.403614</td>\n",
       "      <td>2.008434</td>\n",
       "      <td>78.244205</td>\n",
       "    </tr>\n",
       "    <tr>\n",
       "      <th>std</th>\n",
       "      <td>239.744656</td>\n",
       "      <td>2.499648</td>\n",
       "      <td>0.778899</td>\n",
       "      <td>116.779294</td>\n",
       "    </tr>\n",
       "    <tr>\n",
       "      <th>min</th>\n",
       "      <td>10248.000000</td>\n",
       "      <td>1.000000</td>\n",
       "      <td>1.000000</td>\n",
       "      <td>0.020000</td>\n",
       "    </tr>\n",
       "    <tr>\n",
       "      <th>25%</th>\n",
       "      <td>10455.250000</td>\n",
       "      <td>2.000000</td>\n",
       "      <td>1.000000</td>\n",
       "      <td>13.380000</td>\n",
       "    </tr>\n",
       "    <tr>\n",
       "      <th>50%</th>\n",
       "      <td>10662.500000</td>\n",
       "      <td>4.000000</td>\n",
       "      <td>2.000000</td>\n",
       "      <td>41.360000</td>\n",
       "    </tr>\n",
       "    <tr>\n",
       "      <th>75%</th>\n",
       "      <td>10869.750000</td>\n",
       "      <td>7.000000</td>\n",
       "      <td>3.000000</td>\n",
       "      <td>91.430000</td>\n",
       "    </tr>\n",
       "    <tr>\n",
       "      <th>max</th>\n",
       "      <td>11077.000000</td>\n",
       "      <td>9.000000</td>\n",
       "      <td>3.000000</td>\n",
       "      <td>1007.640000</td>\n",
       "    </tr>\n",
       "  </tbody>\n",
       "</table>\n",
       "</div>"
      ],
      "text/plain": [
       "           idpedido  idempleado   idempresa      importe\n",
       "count    830.000000  830.000000  830.000000   830.000000\n",
       "mean   10662.500000    4.403614    2.008434    78.244205\n",
       "std      239.744656    2.499648    0.778899   116.779294\n",
       "min    10248.000000    1.000000    1.000000     0.020000\n",
       "25%    10455.250000    2.000000    1.000000    13.380000\n",
       "50%    10662.500000    4.000000    2.000000    41.360000\n",
       "75%    10869.750000    7.000000    3.000000    91.430000\n",
       "max    11077.000000    9.000000    3.000000  1007.640000"
      ]
     },
     "execution_count": 7,
     "metadata": {},
     "output_type": "execute_result"
    }
   ],
   "source": [
    "dt.describe()"
   ]
  },
  {
   "cell_type": "code",
   "execution_count": 8,
   "id": "6f094609",
   "metadata": {},
   "outputs": [
    {
     "data": {
      "text/plain": [
       "array(['Finlandia', 'Alemania', 'Brasil', 'Francia', 'Belgica', 'Suiza',\n",
       "       'Venezuela', 'Austria', 'Mexico', 'Estados Unidos', 'Suecia',\n",
       "       'Italia', 'Espanya', 'Reino Unido', 'Irlanda', 'Portugal',\n",
       "       'Canada', 'Dinamarca', 'Polonia', 'Noruega', 'Argentina'],\n",
       "      dtype=object)"
      ]
     },
     "execution_count": 8,
     "metadata": {},
     "output_type": "execute_result"
    }
   ],
   "source": [
    "dt.pais.unique()"
   ]
  },
  {
   "cell_type": "code",
   "execution_count": 11,
   "id": "a3081bf8",
   "metadata": {},
   "outputs": [
    {
     "data": {
      "text/plain": [
       "['Alemania', 'Argentina', 'Austria', 'Belgica', 'Brasil']"
      ]
     },
     "execution_count": 11,
     "metadata": {},
     "output_type": "execute_result"
    }
   ],
   "source": [
    "L = sorted(dt.pais.unique())\n",
    "L[:5]"
   ]
  },
  {
   "cell_type": "code",
   "execution_count": 12,
   "id": "48e16951",
   "metadata": {},
   "outputs": [
    {
     "data": {
      "text/plain": [
       "21"
      ]
     },
     "execution_count": 12,
     "metadata": {},
     "output_type": "execute_result"
    }
   ],
   "source": [
    "len(L)"
   ]
  },
  {
   "cell_type": "code",
   "execution_count": null,
   "id": "0db44a1c",
   "metadata": {},
   "outputs": [],
   "source": [
    "# Número de pedidos por país\n",
    "dt.pais.value_counts()"
   ]
  },
  {
   "cell_type": "markdown",
   "id": "171afd0f",
   "metadata": {},
   "source": [
    "Exportar un fichero Excel o CSV por cada pais que tenemos en el fichero"
   ]
  },
  {
   "cell_type": "code",
   "execution_count": 21,
   "id": "7700ea0e",
   "metadata": {
    "scrolled": true
   },
   "outputs": [
    {
     "name": "stdout",
     "output_type": "stream",
     "text": [
      "(122, 8)  en el fichero:  paises/Alemania.csv\n",
      "(16, 8)  en el fichero:  paises/Argentina.csv\n",
      "(40, 8)  en el fichero:  paises/Austria.csv\n",
      "(19, 8)  en el fichero:  paises/Belgica.csv\n",
      "(83, 8)  en el fichero:  paises/Brasil.csv\n",
      "(30, 8)  en el fichero:  paises/Canada.csv\n",
      "(18, 8)  en el fichero:  paises/Dinamarca.csv\n",
      "(23, 8)  en el fichero:  paises/Espanya.csv\n",
      "(123, 8)  en el fichero:  paises/Estados Unidos.csv\n",
      "(23, 8)  en el fichero:  paises/Finlandia.csv\n",
      "(76, 8)  en el fichero:  paises/Francia.csv\n",
      "(19, 8)  en el fichero:  paises/Irlanda.csv\n",
      "(28, 8)  en el fichero:  paises/Italia.csv\n",
      "(28, 8)  en el fichero:  paises/Mexico.csv\n",
      "(6, 8)  en el fichero:  paises/Noruega.csv\n",
      "(6, 8)  en el fichero:  paises/Polonia.csv\n",
      "(13, 8)  en el fichero:  paises/Portugal.csv\n",
      "(55, 8)  en el fichero:  paises/Reino Unido.csv\n",
      "(38, 8)  en el fichero:  paises/Suecia.csv\n",
      "(18, 8)  en el fichero:  paises/Suiza.csv\n",
      "(46, 8)  en el fichero:  paises/Venezuela.csv\n"
     ]
    }
   ],
   "source": [
    "# Quitar repetidos:\n",
    "L = sorted(dt.pais.unique())\n",
    "\n",
    "# Generar nuevas columnas en el dataframe\n",
    "dt[\"iva\"] = round(dt.importe * 0.21, 2)\n",
    "dt[\"total\"] = round(dt.importe + dt.iva, 2)\n",
    "\n",
    "# Recorrer la colección de paises\n",
    "for pais in L:\n",
    "    \n",
    "    # Montar el path del fichero destino\n",
    "    path = f\"paises/{pais}.csv\"\n",
    "    \n",
    "    # Filtrar por pais\n",
    "    dt2 = dt[dt.pais == pais]\n",
    "    print(dt2.shape, \" en el fichero: \", path)\n",
    "    \n",
    "    # Exportar al fichero:\n",
    "    dt2.to_csv(path, sep=\";\", decimal=\",\", index=False)"
   ]
  },
  {
   "cell_type": "code",
   "execution_count": 29,
   "id": "d3aa48c6",
   "metadata": {},
   "outputs": [],
   "source": [
    "sql = \"\"\"select c.nombre as nombre_cat, p.nombre as nombre_prod, p.precio\n",
    "from categorias c \n",
    "inner join productos p on c.id = p.idcategoria\n",
    "order by 1,2\"\"\""
   ]
  },
  {
   "cell_type": "code",
   "execution_count": 31,
   "id": "4abdaf1c",
   "metadata": {},
   "outputs": [
    {
     "name": "stdout",
     "output_type": "stream",
     "text": [
      "  nombre_cat            nombre_prod     precio\n",
      "0     Carnes        Buey Mishi Kobe  117.90400\n",
      "1     Carnes  Cordero Alice Springs   47.40470\n",
      "2     Carnes      Empanada de carne   39.86860\n",
      "3     Carnes      Empanada de cerdo    9.05552\n",
      "4     Carnes             Pate chino   24.00000\n"
     ]
    }
   ],
   "source": [
    "path = \"empresa3.db\"\n",
    "if isfile(path):\n",
    "    con = db.connect(path)\n",
    "    \n",
    "    dt2 = pd.read_sql(sql, con)\n",
    "    print(dt2.head())\n",
    "    \n",
    "    dt2.to_html(\"paises/productos.html\", index=False)\n",
    "    \n",
    "else:\n",
    "    raise FileNotFoundError(f\"No existe el fichero: {path}\" )\n",
    "    "
   ]
  },
  {
   "cell_type": "code",
   "execution_count": 33,
   "id": "36212da7",
   "metadata": {},
   "outputs": [
    {
     "name": "stdout",
     "output_type": "stream",
     "text": [
      "('Carnes', 'Buey Mishi Kobe', 117.904)\n",
      "('Carnes', 'Salchicha Thuringer', 150.468)\n",
      "('bebidas', 'Azafrán Rojo', 250.0)\n",
      "('comidas', 'Vino Cote de Blaye', 320.286)\n"
     ]
    }
   ],
   "source": [
    "# Extraer datos en Python  de una BD pero sin pandas\n",
    "\n",
    "con = db.connect(path)\n",
    "sql = \"\"\"select c.nombre as nombre_cat, p.nombre as nombre_prod, p.precio\n",
    "from categorias c \n",
    "inner join productos p on c.id = p.idcategoria\n",
    "order by 1,2\"\"\"\n",
    "cur = con.cursor()\n",
    "cur.execute(sql)\n",
    "\n",
    "for t in cur.fetchall():\n",
    "    if t[2] > 100:\n",
    "        print(t)\n",
    "    \n",
    "cur.close()\n",
    "con.close()"
   ]
  },
  {
   "cell_type": "code",
   "execution_count": null,
   "id": "80829e58",
   "metadata": {},
   "outputs": [],
   "source": []
  }
 ],
 "metadata": {
  "kernelspec": {
   "display_name": "Python 3",
   "language": "python",
   "name": "python3"
  },
  "language_info": {
   "codemirror_mode": {
    "name": "ipython",
    "version": 3
   },
   "file_extension": ".py",
   "mimetype": "text/x-python",
   "name": "python",
   "nbconvert_exporter": "python",
   "pygments_lexer": "ipython3",
   "version": "3.9.5"
  }
 },
 "nbformat": 4,
 "nbformat_minor": 5
}
