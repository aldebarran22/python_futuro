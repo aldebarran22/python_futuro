{
 "cells": [
  {
   "cell_type": "markdown",
   "id": "4b3d017d",
   "metadata": {},
   "source": [
    "### Estudio de nacimientos en EEUU"
   ]
  },
  {
   "cell_type": "code",
   "execution_count": 1,
   "id": "75346e6d",
   "metadata": {},
   "outputs": [],
   "source": [
    "import pandas as pd"
   ]
  },
  {
   "cell_type": "code",
   "execution_count": 7,
   "id": "d71dc143",
   "metadata": {},
   "outputs": [
    {
     "data": {
      "text/html": [
       "<div>\n",
       "<style scoped>\n",
       "    .dataframe tbody tr th:only-of-type {\n",
       "        vertical-align: middle;\n",
       "    }\n",
       "\n",
       "    .dataframe tbody tr th {\n",
       "        vertical-align: top;\n",
       "    }\n",
       "\n",
       "    .dataframe thead th {\n",
       "        text-align: right;\n",
       "    }\n",
       "</style>\n",
       "<table border=\"1\" class=\"dataframe\">\n",
       "  <thead>\n",
       "    <tr style=\"text-align: right;\">\n",
       "      <th></th>\n",
       "      <th></th>\n",
       "      <th>cuenta</th>\n",
       "    </tr>\n",
       "    <tr>\n",
       "      <th>nombre</th>\n",
       "      <th>sexo</th>\n",
       "      <th></th>\n",
       "    </tr>\n",
       "  </thead>\n",
       "  <tbody>\n",
       "    <tr>\n",
       "      <th>Emily</th>\n",
       "      <th>F</th>\n",
       "      <td>25953</td>\n",
       "    </tr>\n",
       "    <tr>\n",
       "      <th>Hannah</th>\n",
       "      <th>F</th>\n",
       "      <td>23078</td>\n",
       "    </tr>\n",
       "    <tr>\n",
       "      <th>Madison</th>\n",
       "      <th>F</th>\n",
       "      <td>19967</td>\n",
       "    </tr>\n",
       "    <tr>\n",
       "      <th>Ashley</th>\n",
       "      <th>F</th>\n",
       "      <td>17996</td>\n",
       "    </tr>\n",
       "    <tr>\n",
       "      <th>Sarah</th>\n",
       "      <th>F</th>\n",
       "      <td>17691</td>\n",
       "    </tr>\n",
       "  </tbody>\n",
       "</table>\n",
       "</div>"
      ],
      "text/plain": [
       "              cuenta\n",
       "nombre  sexo        \n",
       "Emily   F      25953\n",
       "Hannah  F      23078\n",
       "Madison F      19967\n",
       "Ashley  F      17996\n",
       "Sarah   F      17691"
      ]
     },
     "execution_count": 7,
     "metadata": {},
     "output_type": "execute_result"
    }
   ],
   "source": [
    "dt1 = pd.read_csv(\"yob2000.txt\", header=None, names=(\"nombre\",\"sexo\",\"cuenta\"))\n",
    "dt1.set_index([\"nombre\",\"sexo\"], inplace=True)\n",
    "dt1.head()"
   ]
  },
  {
   "cell_type": "code",
   "execution_count": 8,
   "id": "841ac5c8",
   "metadata": {},
   "outputs": [
    {
     "data": {
      "text/html": [
       "<div>\n",
       "<style scoped>\n",
       "    .dataframe tbody tr th:only-of-type {\n",
       "        vertical-align: middle;\n",
       "    }\n",
       "\n",
       "    .dataframe tbody tr th {\n",
       "        vertical-align: top;\n",
       "    }\n",
       "\n",
       "    .dataframe thead th {\n",
       "        text-align: right;\n",
       "    }\n",
       "</style>\n",
       "<table border=\"1\" class=\"dataframe\">\n",
       "  <thead>\n",
       "    <tr style=\"text-align: right;\">\n",
       "      <th></th>\n",
       "      <th>cuenta</th>\n",
       "    </tr>\n",
       "    <tr>\n",
       "      <th>sexo</th>\n",
       "      <th></th>\n",
       "    </tr>\n",
       "  </thead>\n",
       "  <tbody>\n",
       "    <tr>\n",
       "      <th>F</th>\n",
       "      <td>19967</td>\n",
       "    </tr>\n",
       "    <tr>\n",
       "      <th>M</th>\n",
       "      <td>138</td>\n",
       "    </tr>\n",
       "  </tbody>\n",
       "</table>\n",
       "</div>"
      ],
      "text/plain": [
       "      cuenta\n",
       "sexo        \n",
       "F      19967\n",
       "M        138"
      ]
     },
     "execution_count": 8,
     "metadata": {},
     "output_type": "execute_result"
    }
   ],
   "source": [
    "dt1.loc[\"Madison\"]"
   ]
  },
  {
   "cell_type": "code",
   "execution_count": 9,
   "id": "393768bc",
   "metadata": {},
   "outputs": [
    {
     "data": {
      "text/html": [
       "<div>\n",
       "<style scoped>\n",
       "    .dataframe tbody tr th:only-of-type {\n",
       "        vertical-align: middle;\n",
       "    }\n",
       "\n",
       "    .dataframe tbody tr th {\n",
       "        vertical-align: top;\n",
       "    }\n",
       "\n",
       "    .dataframe thead th {\n",
       "        text-align: right;\n",
       "    }\n",
       "</style>\n",
       "<table border=\"1\" class=\"dataframe\">\n",
       "  <thead>\n",
       "    <tr style=\"text-align: right;\">\n",
       "      <th></th>\n",
       "      <th></th>\n",
       "      <th>cuenta</th>\n",
       "    </tr>\n",
       "    <tr>\n",
       "      <th>nombre</th>\n",
       "      <th>sexo</th>\n",
       "      <th></th>\n",
       "    </tr>\n",
       "  </thead>\n",
       "  <tbody>\n",
       "    <tr>\n",
       "      <th>Emily</th>\n",
       "      <th>F</th>\n",
       "      <td>25054</td>\n",
       "    </tr>\n",
       "    <tr>\n",
       "      <th>Madison</th>\n",
       "      <th>F</th>\n",
       "      <td>22162</td>\n",
       "    </tr>\n",
       "    <tr>\n",
       "      <th>Hannah</th>\n",
       "      <th>F</th>\n",
       "      <td>20709</td>\n",
       "    </tr>\n",
       "    <tr>\n",
       "      <th>Ashley</th>\n",
       "      <th>F</th>\n",
       "      <td>16526</td>\n",
       "    </tr>\n",
       "    <tr>\n",
       "      <th>Alexis</th>\n",
       "      <th>F</th>\n",
       "      <td>16399</td>\n",
       "    </tr>\n",
       "  </tbody>\n",
       "</table>\n",
       "</div>"
      ],
      "text/plain": [
       "              cuenta\n",
       "nombre  sexo        \n",
       "Emily   F      25054\n",
       "Madison F      22162\n",
       "Hannah  F      20709\n",
       "Ashley  F      16526\n",
       "Alexis  F      16399"
      ]
     },
     "execution_count": 9,
     "metadata": {},
     "output_type": "execute_result"
    }
   ],
   "source": [
    "dt2 = pd.read_csv(\"yob2001.txt\", header=None, names=(\"nombre\",\"sexo\",\"cuenta\"))\n",
    "dt2.set_index([\"nombre\",\"sexo\"], inplace=True)\n",
    "dt2.head()"
   ]
  },
  {
   "cell_type": "code",
   "execution_count": 14,
   "id": "ca7820e0",
   "metadata": {},
   "outputs": [
    {
     "data": {
      "text/html": [
       "<div>\n",
       "<style scoped>\n",
       "    .dataframe tbody tr th:only-of-type {\n",
       "        vertical-align: middle;\n",
       "    }\n",
       "\n",
       "    .dataframe tbody tr th {\n",
       "        vertical-align: top;\n",
       "    }\n",
       "\n",
       "    .dataframe thead th {\n",
       "        text-align: right;\n",
       "    }\n",
       "</style>\n",
       "<table border=\"1\" class=\"dataframe\">\n",
       "  <thead>\n",
       "    <tr style=\"text-align: right;\">\n",
       "      <th></th>\n",
       "      <th></th>\n",
       "      <th>cuenta</th>\n",
       "    </tr>\n",
       "    <tr>\n",
       "      <th>nombre</th>\n",
       "      <th>sexo</th>\n",
       "      <th></th>\n",
       "    </tr>\n",
       "  </thead>\n",
       "  <tbody>\n",
       "    <tr>\n",
       "      <th>Jacob</th>\n",
       "      <th>M</th>\n",
       "      <td>67006.0</td>\n",
       "    </tr>\n",
       "    <tr>\n",
       "      <th>Michael</th>\n",
       "      <th>M</th>\n",
       "      <td>61712.0</td>\n",
       "    </tr>\n",
       "    <tr>\n",
       "      <th>Matthew</th>\n",
       "      <th>M</th>\n",
       "      <td>55376.0</td>\n",
       "    </tr>\n",
       "    <tr>\n",
       "      <th>Joshua</th>\n",
       "      <th>M</th>\n",
       "      <td>53547.0</td>\n",
       "    </tr>\n",
       "    <tr>\n",
       "      <th>Emily</th>\n",
       "      <th>F</th>\n",
       "      <td>51007.0</td>\n",
       "    </tr>\n",
       "    <tr>\n",
       "      <th>Christopher</th>\n",
       "      <th>M</th>\n",
       "      <td>48048.0</td>\n",
       "    </tr>\n",
       "    <tr>\n",
       "      <th>Nicholas</th>\n",
       "      <th>M</th>\n",
       "      <td>47490.0</td>\n",
       "    </tr>\n",
       "    <tr>\n",
       "      <th>Andrew</th>\n",
       "      <th>M</th>\n",
       "      <td>46040.0</td>\n",
       "    </tr>\n",
       "    <tr>\n",
       "      <th>Joseph</th>\n",
       "      <th>M</th>\n",
       "      <td>44822.0</td>\n",
       "    </tr>\n",
       "    <tr>\n",
       "      <th>Hannah</th>\n",
       "      <th>F</th>\n",
       "      <td>43787.0</td>\n",
       "    </tr>\n",
       "  </tbody>\n",
       "</table>\n",
       "</div>"
      ],
      "text/plain": [
       "                   cuenta\n",
       "nombre      sexo         \n",
       "Jacob       M     67006.0\n",
       "Michael     M     61712.0\n",
       "Matthew     M     55376.0\n",
       "Joshua      M     53547.0\n",
       "Emily       F     51007.0\n",
       "Christopher M     48048.0\n",
       "Nicholas    M     47490.0\n",
       "Andrew      M     46040.0\n",
       "Joseph      M     44822.0\n",
       "Hannah      F     43787.0"
      ]
     },
     "execution_count": 14,
     "metadata": {},
     "output_type": "execute_result"
    }
   ],
   "source": [
    "suma = dt1.add(dt2, fill_value=0)\n",
    "suma.sort_values(\"cuenta\", ascending=False, inplace=True)\n",
    "suma.head(10)"
   ]
  },
  {
   "cell_type": "code",
   "execution_count": 15,
   "id": "97487655",
   "metadata": {},
   "outputs": [],
   "source": [
    "from os import listdir"
   ]
  },
  {
   "cell_type": "code",
   "execution_count": 20,
   "id": "4c0933d5",
   "metadata": {},
   "outputs": [],
   "source": [
    "def cargaFichero(path):\n",
    "    dt = pd.read_csv(path, header=None, names=(\"nombre\",\"sexo\",\"cuenta\"))\n",
    "    dt.set_index([\"nombre\",\"sexo\"], inplace=True)   \n",
    "    return dt"
   ]
  },
  {
   "cell_type": "code",
   "execution_count": 22,
   "id": "d5964675",
   "metadata": {},
   "outputs": [
    {
     "name": "stdout",
     "output_type": "stream",
     "text": [
      "otro fichero\n",
      "otro fichero\n",
      "yob2000.txt\n",
      "              cuenta\n",
      "nombre  sexo        \n",
      "Emily   F      25953\n",
      "Hannah  F      23078\n",
      "Madison F      19967\n",
      "yob2001.txt\n",
      "              cuenta\n",
      "nombre  sexo        \n",
      "Emily   F      25054\n",
      "Madison F      22162\n",
      "Hannah  F      20709\n",
      "yob2002.txt\n",
      "              cuenta\n",
      "nombre  sexo        \n",
      "Emily   F      24460\n",
      "Madison F      21772\n",
      "Hannah  F      18818\n",
      "yob2003.txt\n",
      "              cuenta\n",
      "nombre  sexo        \n",
      "Emily   F      25688\n",
      "Emma    F      22702\n",
      "Madison F      20197\n",
      "yob2004.txt\n",
      "              cuenta\n",
      "nombre  sexo        \n",
      "Emily   F      25032\n",
      "Emma    F      21604\n",
      "Madison F      20619\n",
      "yob2005.txt\n",
      "              cuenta\n",
      "nombre  sexo        \n",
      "Emily   F      23934\n",
      "Emma    F      20336\n",
      "Madison F      19564\n",
      "...\n"
     ]
    }
   ],
   "source": [
    "for f  in listdir():\n",
    "    ext = f.partition(\".\")[2]\n",
    "    if ext == 'txt':\n",
    "        print(f)\n",
    "        dt = cargaFichero(f)\n",
    "        print(dt.head(3))\n",
    "    else:\n",
    "        print('otro fichero')\n",
    "print('...')"
   ]
  },
  {
   "cell_type": "code",
   "execution_count": 23,
   "id": "00b9a6b0",
   "metadata": {},
   "outputs": [
    {
     "name": "stdout",
     "output_type": "stream",
     "text": [
      "parar\n"
     ]
    }
   ],
   "source": [
    "sem = \"rojo\"\n",
    "\n",
    "if sem=='rojo':\n",
    "    print(\"parar\")\n",
    "    \n",
    "elif sem == 'verde':\n",
    "    print(\"pasar\")\n",
    "    \n",
    "else:\n",
    "    print('precaución')"
   ]
  },
  {
   "cell_type": "code",
   "execution_count": null,
   "id": "5b35f693",
   "metadata": {},
   "outputs": [],
   "source": []
  }
 ],
 "metadata": {
  "kernelspec": {
   "display_name": "Python 3",
   "language": "python",
   "name": "python3"
  },
  "language_info": {
   "codemirror_mode": {
    "name": "ipython",
    "version": 3
   },
   "file_extension": ".py",
   "mimetype": "text/x-python",
   "name": "python",
   "nbconvert_exporter": "python",
   "pygments_lexer": "ipython3",
   "version": "3.9.5"
  }
 },
 "nbformat": 4,
 "nbformat_minor": 5
}
