{
 "cells": [
  {
   "cell_type": "markdown",
   "id": "444d60e8",
   "metadata": {},
   "source": [
    "## Cargar ficheros excel y generar CSV con pandas"
   ]
  },
  {
   "cell_type": "code",
   "execution_count": 1,
   "id": "7507ce60",
   "metadata": {},
   "outputs": [],
   "source": [
    "import pandas as pd"
   ]
  },
  {
   "cell_type": "code",
   "execution_count": 2,
   "id": "9986dbc7",
   "metadata": {},
   "outputs": [
    {
     "data": {
      "text/html": [
       "<div>\n",
       "<style scoped>\n",
       "    .dataframe tbody tr th:only-of-type {\n",
       "        vertical-align: middle;\n",
       "    }\n",
       "\n",
       "    .dataframe tbody tr th {\n",
       "        vertical-align: top;\n",
       "    }\n",
       "\n",
       "    .dataframe thead th {\n",
       "        text-align: right;\n",
       "    }\n",
       "</style>\n",
       "<table border=\"1\" class=\"dataframe\">\n",
       "  <thead>\n",
       "    <tr style=\"text-align: right;\">\n",
       "      <th></th>\n",
       "      <th>idpedido</th>\n",
       "      <th>cliente</th>\n",
       "      <th>idempleado</th>\n",
       "      <th>idempresa</th>\n",
       "      <th>importe</th>\n",
       "      <th>pais</th>\n",
       "    </tr>\n",
       "  </thead>\n",
       "  <tbody>\n",
       "    <tr>\n",
       "      <th>0</th>\n",
       "      <td>10248</td>\n",
       "      <td>WILMK</td>\n",
       "      <td>5</td>\n",
       "      <td>3</td>\n",
       "      <td>32.38</td>\n",
       "      <td>Finlandia</td>\n",
       "    </tr>\n",
       "    <tr>\n",
       "      <th>1</th>\n",
       "      <td>10249</td>\n",
       "      <td>TOMSP</td>\n",
       "      <td>6</td>\n",
       "      <td>1</td>\n",
       "      <td>11.61</td>\n",
       "      <td>Alemania</td>\n",
       "    </tr>\n",
       "    <tr>\n",
       "      <th>2</th>\n",
       "      <td>10250</td>\n",
       "      <td>HANAR</td>\n",
       "      <td>4</td>\n",
       "      <td>2</td>\n",
       "      <td>65.83</td>\n",
       "      <td>Brasil</td>\n",
       "    </tr>\n",
       "    <tr>\n",
       "      <th>3</th>\n",
       "      <td>10251</td>\n",
       "      <td>VICTE</td>\n",
       "      <td>3</td>\n",
       "      <td>1</td>\n",
       "      <td>41.34</td>\n",
       "      <td>Francia</td>\n",
       "    </tr>\n",
       "    <tr>\n",
       "      <th>4</th>\n",
       "      <td>10252</td>\n",
       "      <td>SUPRD</td>\n",
       "      <td>4</td>\n",
       "      <td>2</td>\n",
       "      <td>51.30</td>\n",
       "      <td>Belgica</td>\n",
       "    </tr>\n",
       "  </tbody>\n",
       "</table>\n",
       "</div>"
      ],
      "text/plain": [
       "   idpedido cliente  idempleado  idempresa  importe       pais\n",
       "0     10248   WILMK           5          3    32.38  Finlandia\n",
       "1     10249   TOMSP           6          1    11.61   Alemania\n",
       "2     10250   HANAR           4          2    65.83     Brasil\n",
       "3     10251   VICTE           3          1    41.34    Francia\n",
       "4     10252   SUPRD           4          2    51.30    Belgica"
      ]
     },
     "execution_count": 2,
     "metadata": {},
     "output_type": "execute_result"
    }
   ],
   "source": [
    "path = \"pedidos2.xlsx\"\n",
    "\n",
    "dt = pd.read_excel(path)\n",
    "dt.head()"
   ]
  },
  {
   "cell_type": "code",
   "execution_count": 3,
   "id": "df1ba081",
   "metadata": {},
   "outputs": [
    {
     "data": {
      "text/plain": [
       "idpedido          10248\n",
       "cliente           WILMK\n",
       "idempleado            5\n",
       "idempresa             3\n",
       "importe           32.38\n",
       "pais          Finlandia\n",
       "Name: 0, dtype: object"
      ]
     },
     "execution_count": 3,
     "metadata": {},
     "output_type": "execute_result"
    }
   ],
   "source": [
    "dt.loc[0]"
   ]
  },
  {
   "cell_type": "code",
   "execution_count": 4,
   "id": "34cde8b9",
   "metadata": {},
   "outputs": [
    {
     "data": {
      "text/plain": [
       "0           Finlandia\n",
       "1            Alemania\n",
       "2              Brasil\n",
       "3             Francia\n",
       "4             Belgica\n",
       "            ...      \n",
       "825            Mexico\n",
       "826         Dinamarca\n",
       "827             Suiza\n",
       "828           Francia\n",
       "829    Estados Unidos\n",
       "Name: pais, Length: 830, dtype: object"
      ]
     },
     "execution_count": 4,
     "metadata": {},
     "output_type": "execute_result"
    }
   ],
   "source": [
    "dt.pais"
   ]
  },
  {
   "cell_type": "code",
   "execution_count": 5,
   "id": "a82aaaf2",
   "metadata": {},
   "outputs": [
    {
     "data": {
      "text/html": [
       "<div>\n",
       "<style scoped>\n",
       "    .dataframe tbody tr th:only-of-type {\n",
       "        vertical-align: middle;\n",
       "    }\n",
       "\n",
       "    .dataframe tbody tr th {\n",
       "        vertical-align: top;\n",
       "    }\n",
       "\n",
       "    .dataframe thead th {\n",
       "        text-align: right;\n",
       "    }\n",
       "</style>\n",
       "<table border=\"1\" class=\"dataframe\">\n",
       "  <thead>\n",
       "    <tr style=\"text-align: right;\">\n",
       "      <th></th>\n",
       "      <th>idpedido</th>\n",
       "      <th>cliente</th>\n",
       "      <th>idempleado</th>\n",
       "      <th>idempresa</th>\n",
       "      <th>importe</th>\n",
       "      <th>pais</th>\n",
       "    </tr>\n",
       "  </thead>\n",
       "  <tbody>\n",
       "    <tr>\n",
       "      <th>825</th>\n",
       "      <td>11073</td>\n",
       "      <td>PERIC</td>\n",
       "      <td>2</td>\n",
       "      <td>2</td>\n",
       "      <td>24.95</td>\n",
       "      <td>Mexico</td>\n",
       "    </tr>\n",
       "    <tr>\n",
       "      <th>826</th>\n",
       "      <td>11074</td>\n",
       "      <td>SIMOB</td>\n",
       "      <td>7</td>\n",
       "      <td>2</td>\n",
       "      <td>18.44</td>\n",
       "      <td>Dinamarca</td>\n",
       "    </tr>\n",
       "    <tr>\n",
       "      <th>827</th>\n",
       "      <td>11075</td>\n",
       "      <td>RICSU</td>\n",
       "      <td>8</td>\n",
       "      <td>2</td>\n",
       "      <td>6.19</td>\n",
       "      <td>Suiza</td>\n",
       "    </tr>\n",
       "    <tr>\n",
       "      <th>828</th>\n",
       "      <td>11076</td>\n",
       "      <td>BONAP</td>\n",
       "      <td>4</td>\n",
       "      <td>2</td>\n",
       "      <td>38.28</td>\n",
       "      <td>Francia</td>\n",
       "    </tr>\n",
       "    <tr>\n",
       "      <th>829</th>\n",
       "      <td>11077</td>\n",
       "      <td>RATTC</td>\n",
       "      <td>1</td>\n",
       "      <td>2</td>\n",
       "      <td>8.53</td>\n",
       "      <td>Estados Unidos</td>\n",
       "    </tr>\n",
       "  </tbody>\n",
       "</table>\n",
       "</div>"
      ],
      "text/plain": [
       "     idpedido cliente  idempleado  idempresa  importe            pais\n",
       "825     11073   PERIC           2          2    24.95          Mexico\n",
       "826     11074   SIMOB           7          2    18.44       Dinamarca\n",
       "827     11075   RICSU           8          2     6.19           Suiza\n",
       "828     11076   BONAP           4          2    38.28         Francia\n",
       "829     11077   RATTC           1          2     8.53  Estados Unidos"
      ]
     },
     "execution_count": 5,
     "metadata": {},
     "output_type": "execute_result"
    }
   ],
   "source": [
    "dt.tail()"
   ]
  },
  {
   "cell_type": "code",
   "execution_count": 6,
   "id": "84f1f483",
   "metadata": {},
   "outputs": [
    {
     "name": "stdout",
     "output_type": "stream",
     "text": [
      "<class 'pandas.core.frame.DataFrame'>\n",
      "RangeIndex: 830 entries, 0 to 829\n",
      "Data columns (total 6 columns):\n",
      " #   Column      Non-Null Count  Dtype  \n",
      "---  ------      --------------  -----  \n",
      " 0   idpedido    830 non-null    int64  \n",
      " 1   cliente     830 non-null    object \n",
      " 2   idempleado  830 non-null    int64  \n",
      " 3   idempresa   830 non-null    int64  \n",
      " 4   importe     830 non-null    float64\n",
      " 5   pais        830 non-null    object \n",
      "dtypes: float64(1), int64(3), object(2)\n",
      "memory usage: 39.0+ KB\n"
     ]
    }
   ],
   "source": [
    "dt.info()"
   ]
  },
  {
   "cell_type": "code",
   "execution_count": 7,
   "id": "1ba281b2",
   "metadata": {},
   "outputs": [
    {
     "data": {
      "text/plain": [
       "'Mexico'"
      ]
     },
     "execution_count": 7,
     "metadata": {},
     "output_type": "execute_result"
    }
   ],
   "source": [
    "dt.loc[825][\"pais\"]"
   ]
  },
  {
   "cell_type": "code",
   "execution_count": 8,
   "id": "2007e4da",
   "metadata": {},
   "outputs": [
    {
     "data": {
      "text/plain": [
       "'Mexico'"
      ]
     },
     "execution_count": 8,
     "metadata": {},
     "output_type": "execute_result"
    }
   ],
   "source": [
    "dt[\"pais\"][825]"
   ]
  },
  {
   "cell_type": "code",
   "execution_count": 9,
   "id": "a4571065",
   "metadata": {},
   "outputs": [
    {
     "data": {
      "text/plain": [
       "array(['Finlandia', 'Alemania', 'Brasil', 'Francia', 'Belgica', 'Suiza',\n",
       "       'Venezuela', 'Austria', 'Mexico', 'Estados Unidos', 'Suecia',\n",
       "       'Italia', 'Espanya', 'Reino Unido', 'Irlanda', 'Portugal',\n",
       "       'Canada', 'Dinamarca', 'Polonia', 'Noruega', 'Argentina'],\n",
       "      dtype=object)"
      ]
     },
     "execution_count": 9,
     "metadata": {},
     "output_type": "execute_result"
    }
   ],
   "source": [
    "dt.pais.unique()"
   ]
  },
  {
   "cell_type": "code",
   "execution_count": 11,
   "id": "a8de8173",
   "metadata": {},
   "outputs": [
    {
     "data": {
      "text/plain": [
       "['Alemania',\n",
       " 'Argentina',\n",
       " 'Austria',\n",
       " 'Belgica',\n",
       " 'Brasil',\n",
       " 'Canada',\n",
       " 'Dinamarca',\n",
       " 'Espanya',\n",
       " 'Estados Unidos',\n",
       " 'Finlandia',\n",
       " 'Francia',\n",
       " 'Irlanda',\n",
       " 'Italia',\n",
       " 'Mexico',\n",
       " 'Noruega',\n",
       " 'Polonia',\n",
       " 'Portugal',\n",
       " 'Reino Unido',\n",
       " 'Suecia',\n",
       " 'Suiza',\n",
       " 'Venezuela']"
      ]
     },
     "execution_count": 11,
     "metadata": {},
     "output_type": "execute_result"
    }
   ],
   "source": [
    "paises = sorted(dt.pais.unique())\n",
    "paises"
   ]
  },
  {
   "cell_type": "code",
   "execution_count": 12,
   "id": "21b081bf",
   "metadata": {},
   "outputs": [
    {
     "data": {
      "text/plain": [
       "21"
      ]
     },
     "execution_count": 12,
     "metadata": {},
     "output_type": "execute_result"
    }
   ],
   "source": [
    "len(paises)"
   ]
  },
  {
   "cell_type": "code",
   "execution_count": 13,
   "id": "f102380f",
   "metadata": {},
   "outputs": [
    {
     "data": {
      "text/plain": [
       "pais\n",
       "Estados Unidos    123\n",
       "Alemania          122\n",
       "Brasil             83\n",
       "Francia            76\n",
       "Reino Unido        55\n",
       "Venezuela          46\n",
       "Austria            40\n",
       "Suecia             38\n",
       "Canada             30\n",
       "Mexico             28\n",
       "Italia             28\n",
       "Espanya            23\n",
       "Finlandia          23\n",
       "Irlanda            19\n",
       "Belgica            19\n",
       "Suiza              18\n",
       "Dinamarca          18\n",
       "Argentina          16\n",
       "Portugal           13\n",
       "Polonia             6\n",
       "Noruega             6\n",
       "Name: count, dtype: int64"
      ]
     },
     "execution_count": 13,
     "metadata": {},
     "output_type": "execute_result"
    }
   ],
   "source": [
    "dt.pais.value_counts()"
   ]
  },
  {
   "cell_type": "code",
   "execution_count": 14,
   "id": "aa54fd7f",
   "metadata": {},
   "outputs": [
    {
     "data": {
      "text/html": [
       "<div>\n",
       "<style scoped>\n",
       "    .dataframe tbody tr th:only-of-type {\n",
       "        vertical-align: middle;\n",
       "    }\n",
       "\n",
       "    .dataframe tbody tr th {\n",
       "        vertical-align: top;\n",
       "    }\n",
       "\n",
       "    .dataframe thead th {\n",
       "        text-align: right;\n",
       "    }\n",
       "</style>\n",
       "<table border=\"1\" class=\"dataframe\">\n",
       "  <thead>\n",
       "    <tr style=\"text-align: right;\">\n",
       "      <th></th>\n",
       "      <th>idpedido</th>\n",
       "      <th>idempleado</th>\n",
       "      <th>idempresa</th>\n",
       "      <th>importe</th>\n",
       "    </tr>\n",
       "  </thead>\n",
       "  <tbody>\n",
       "    <tr>\n",
       "      <th>count</th>\n",
       "      <td>830.000000</td>\n",
       "      <td>830.000000</td>\n",
       "      <td>830.000000</td>\n",
       "      <td>830.000000</td>\n",
       "    </tr>\n",
       "    <tr>\n",
       "      <th>mean</th>\n",
       "      <td>10662.500000</td>\n",
       "      <td>4.403614</td>\n",
       "      <td>2.008434</td>\n",
       "      <td>78.244205</td>\n",
       "    </tr>\n",
       "    <tr>\n",
       "      <th>std</th>\n",
       "      <td>239.744656</td>\n",
       "      <td>2.499648</td>\n",
       "      <td>0.778899</td>\n",
       "      <td>116.779294</td>\n",
       "    </tr>\n",
       "    <tr>\n",
       "      <th>min</th>\n",
       "      <td>10248.000000</td>\n",
       "      <td>1.000000</td>\n",
       "      <td>1.000000</td>\n",
       "      <td>0.020000</td>\n",
       "    </tr>\n",
       "    <tr>\n",
       "      <th>25%</th>\n",
       "      <td>10455.250000</td>\n",
       "      <td>2.000000</td>\n",
       "      <td>1.000000</td>\n",
       "      <td>13.380000</td>\n",
       "    </tr>\n",
       "    <tr>\n",
       "      <th>50%</th>\n",
       "      <td>10662.500000</td>\n",
       "      <td>4.000000</td>\n",
       "      <td>2.000000</td>\n",
       "      <td>41.360000</td>\n",
       "    </tr>\n",
       "    <tr>\n",
       "      <th>75%</th>\n",
       "      <td>10869.750000</td>\n",
       "      <td>7.000000</td>\n",
       "      <td>3.000000</td>\n",
       "      <td>91.430000</td>\n",
       "    </tr>\n",
       "    <tr>\n",
       "      <th>max</th>\n",
       "      <td>11077.000000</td>\n",
       "      <td>9.000000</td>\n",
       "      <td>3.000000</td>\n",
       "      <td>1007.640000</td>\n",
       "    </tr>\n",
       "  </tbody>\n",
       "</table>\n",
       "</div>"
      ],
      "text/plain": [
       "           idpedido  idempleado   idempresa      importe\n",
       "count    830.000000  830.000000  830.000000   830.000000\n",
       "mean   10662.500000    4.403614    2.008434    78.244205\n",
       "std      239.744656    2.499648    0.778899   116.779294\n",
       "min    10248.000000    1.000000    1.000000     0.020000\n",
       "25%    10455.250000    2.000000    1.000000    13.380000\n",
       "50%    10662.500000    4.000000    2.000000    41.360000\n",
       "75%    10869.750000    7.000000    3.000000    91.430000\n",
       "max    11077.000000    9.000000    3.000000  1007.640000"
      ]
     },
     "execution_count": 14,
     "metadata": {},
     "output_type": "execute_result"
    }
   ],
   "source": [
    "dt.describe()"
   ]
  },
  {
   "cell_type": "code",
   "execution_count": 15,
   "id": "b49332a8",
   "metadata": {},
   "outputs": [
    {
     "data": {
      "text/html": [
       "<div>\n",
       "<style scoped>\n",
       "    .dataframe tbody tr th:only-of-type {\n",
       "        vertical-align: middle;\n",
       "    }\n",
       "\n",
       "    .dataframe tbody tr th {\n",
       "        vertical-align: top;\n",
       "    }\n",
       "\n",
       "    .dataframe thead th {\n",
       "        text-align: right;\n",
       "    }\n",
       "</style>\n",
       "<table border=\"1\" class=\"dataframe\">\n",
       "  <thead>\n",
       "    <tr style=\"text-align: right;\">\n",
       "      <th></th>\n",
       "      <th>idpedido</th>\n",
       "      <th>cliente</th>\n",
       "      <th>idempleado</th>\n",
       "      <th>idempresa</th>\n",
       "      <th>importe</th>\n",
       "      <th>pais</th>\n",
       "      <th>iva</th>\n",
       "      <th>total</th>\n",
       "    </tr>\n",
       "  </thead>\n",
       "  <tbody>\n",
       "    <tr>\n",
       "      <th>0</th>\n",
       "      <td>10248</td>\n",
       "      <td>WILMK</td>\n",
       "      <td>5</td>\n",
       "      <td>3</td>\n",
       "      <td>32.38</td>\n",
       "      <td>Finlandia</td>\n",
       "      <td>6.80</td>\n",
       "      <td>39.18</td>\n",
       "    </tr>\n",
       "    <tr>\n",
       "      <th>1</th>\n",
       "      <td>10249</td>\n",
       "      <td>TOMSP</td>\n",
       "      <td>6</td>\n",
       "      <td>1</td>\n",
       "      <td>11.61</td>\n",
       "      <td>Alemania</td>\n",
       "      <td>2.44</td>\n",
       "      <td>14.05</td>\n",
       "    </tr>\n",
       "    <tr>\n",
       "      <th>2</th>\n",
       "      <td>10250</td>\n",
       "      <td>HANAR</td>\n",
       "      <td>4</td>\n",
       "      <td>2</td>\n",
       "      <td>65.83</td>\n",
       "      <td>Brasil</td>\n",
       "      <td>13.82</td>\n",
       "      <td>79.65</td>\n",
       "    </tr>\n",
       "    <tr>\n",
       "      <th>3</th>\n",
       "      <td>10251</td>\n",
       "      <td>VICTE</td>\n",
       "      <td>3</td>\n",
       "      <td>1</td>\n",
       "      <td>41.34</td>\n",
       "      <td>Francia</td>\n",
       "      <td>8.68</td>\n",
       "      <td>50.02</td>\n",
       "    </tr>\n",
       "    <tr>\n",
       "      <th>4</th>\n",
       "      <td>10252</td>\n",
       "      <td>SUPRD</td>\n",
       "      <td>4</td>\n",
       "      <td>2</td>\n",
       "      <td>51.30</td>\n",
       "      <td>Belgica</td>\n",
       "      <td>10.77</td>\n",
       "      <td>62.07</td>\n",
       "    </tr>\n",
       "  </tbody>\n",
       "</table>\n",
       "</div>"
      ],
      "text/plain": [
       "   idpedido cliente  idempleado  idempresa  importe       pais    iva  total\n",
       "0     10248   WILMK           5          3    32.38  Finlandia   6.80  39.18\n",
       "1     10249   TOMSP           6          1    11.61   Alemania   2.44  14.05\n",
       "2     10250   HANAR           4          2    65.83     Brasil  13.82  79.65\n",
       "3     10251   VICTE           3          1    41.34    Francia   8.68  50.02\n",
       "4     10252   SUPRD           4          2    51.30    Belgica  10.77  62.07"
      ]
     },
     "execution_count": 15,
     "metadata": {},
     "output_type": "execute_result"
    }
   ],
   "source": [
    "dt[\"iva\"] = round(dt.importe * 0.21, 2)\n",
    "dt[\"total\"] = dt.iva + dt.importe\n",
    "dt.head()"
   ]
  },
  {
   "cell_type": "code",
   "execution_count": 16,
   "id": "0c5de7b1",
   "metadata": {},
   "outputs": [],
   "source": [
    "dt.to_csv(\"paises/pedidos.csv\", sep=\";\", index=False, decimal=',')"
   ]
  },
  {
   "cell_type": "code",
   "execution_count": 19,
   "id": "e14aab5f",
   "metadata": {},
   "outputs": [
    {
     "data": {
      "text/html": [
       "<div>\n",
       "<style scoped>\n",
       "    .dataframe tbody tr th:only-of-type {\n",
       "        vertical-align: middle;\n",
       "    }\n",
       "\n",
       "    .dataframe tbody tr th {\n",
       "        vertical-align: top;\n",
       "    }\n",
       "\n",
       "    .dataframe thead th {\n",
       "        text-align: right;\n",
       "    }\n",
       "</style>\n",
       "<table border=\"1\" class=\"dataframe\">\n",
       "  <thead>\n",
       "    <tr style=\"text-align: right;\">\n",
       "      <th></th>\n",
       "      <th>idpedido</th>\n",
       "      <th>cliente</th>\n",
       "      <th>idempleado</th>\n",
       "      <th>idempresa</th>\n",
       "      <th>importe</th>\n",
       "      <th>pais</th>\n",
       "      <th>iva</th>\n",
       "      <th>total</th>\n",
       "    </tr>\n",
       "  </thead>\n",
       "  <tbody>\n",
       "    <tr>\n",
       "      <th>7</th>\n",
       "      <td>10255</td>\n",
       "      <td>RICSU</td>\n",
       "      <td>9</td>\n",
       "      <td>3</td>\n",
       "      <td>148.33</td>\n",
       "      <td>Suiza</td>\n",
       "      <td>31.15</td>\n",
       "      <td>179.48</td>\n",
       "    </tr>\n",
       "    <tr>\n",
       "      <th>171</th>\n",
       "      <td>10419</td>\n",
       "      <td>RICSU</td>\n",
       "      <td>4</td>\n",
       "      <td>2</td>\n",
       "      <td>137.35</td>\n",
       "      <td>Suiza</td>\n",
       "      <td>28.84</td>\n",
       "      <td>166.19</td>\n",
       "    </tr>\n",
       "    <tr>\n",
       "      <th>418</th>\n",
       "      <td>10666</td>\n",
       "      <td>RICSU</td>\n",
       "      <td>7</td>\n",
       "      <td>2</td>\n",
       "      <td>232.42</td>\n",
       "      <td>Suiza</td>\n",
       "      <td>48.81</td>\n",
       "      <td>281.23</td>\n",
       "    </tr>\n",
       "    <tr>\n",
       "      <th>503</th>\n",
       "      <td>10751</td>\n",
       "      <td>RICSU</td>\n",
       "      <td>3</td>\n",
       "      <td>3</td>\n",
       "      <td>130.79</td>\n",
       "      <td>Suiza</td>\n",
       "      <td>27.47</td>\n",
       "      <td>158.26</td>\n",
       "    </tr>\n",
       "    <tr>\n",
       "      <th>510</th>\n",
       "      <td>10758</td>\n",
       "      <td>RICSU</td>\n",
       "      <td>3</td>\n",
       "      <td>3</td>\n",
       "      <td>138.17</td>\n",
       "      <td>Suiza</td>\n",
       "      <td>29.02</td>\n",
       "      <td>167.19</td>\n",
       "    </tr>\n",
       "  </tbody>\n",
       "</table>\n",
       "</div>"
      ],
      "text/plain": [
       "     idpedido cliente  idempleado  idempresa  importe   pais    iva   total\n",
       "7       10255   RICSU           9          3   148.33  Suiza  31.15  179.48\n",
       "171     10419   RICSU           4          2   137.35  Suiza  28.84  166.19\n",
       "418     10666   RICSU           7          2   232.42  Suiza  48.81  281.23\n",
       "503     10751   RICSU           3          3   130.79  Suiza  27.47  158.26\n",
       "510     10758   RICSU           3          3   138.17  Suiza  29.02  167.19"
      ]
     },
     "execution_count": 19,
     "metadata": {},
     "output_type": "execute_result"
    }
   ],
   "source": [
    "dt2 = dt[(dt.pais=='Suiza') & (dt.importe > 100)]\n",
    "dt2"
   ]
  },
  {
   "cell_type": "code",
   "execution_count": 21,
   "id": "9f9ccfdb",
   "metadata": {},
   "outputs": [],
   "source": [
    "dt2.to_json(\"paises/pedidos.json\", orient=\"records\")"
   ]
  },
  {
   "cell_type": "markdown",
   "id": "36cbb20c",
   "metadata": {},
   "source": [
    "#### Base de datos con python y pandas (SQLite3)"
   ]
  },
  {
   "cell_type": "code",
   "execution_count": 22,
   "id": "f08c08ab",
   "metadata": {},
   "outputs": [],
   "source": [
    "import sqlite3 as bd"
   ]
  },
  {
   "cell_type": "code",
   "execution_count": 30,
   "id": "52a62008",
   "metadata": {},
   "outputs": [
    {
     "data": {
      "text/plain": [
       "{'comidas': 17,\n",
       " 'bebidas': 13,\n",
       " 'Frutas/Verduras': 5,\n",
       " 'Carnes': 6,\n",
       " 'Pescado/Marisco': 12,\n",
       " 'Lacteos': 10,\n",
       " 'reposteria': 13,\n",
       " 'Cereales': 7}"
      ]
     },
     "execution_count": 30,
     "metadata": {},
     "output_type": "execute_result"
    }
   ],
   "source": [
    "con = bd.connect(\"empresa3.db\")\n",
    "sql = \"\"\"select p.nombre as nombre_prod, c.nombre as nombre_cat, \n",
    "p.precio, p.existencias from productos p \n",
    "inner join categorias c on p.idcategoria = c.id\"\"\"\n",
    "\n",
    "cur = con.cursor()\n",
    "cur.execute(sql)\n",
    "d = dict()\n",
    "for t in cur.fetchall():\n",
    "    cat = t[1]\n",
    "    if cat in d:\n",
    "        d[cat] += 1\n",
    "    else:\n",
    "        d[cat] = 1\n",
    "    \n",
    "cur.close()\n",
    "con.close()\n",
    "\n",
    "d"
   ]
  },
  {
   "cell_type": "markdown",
   "id": "50624ad7",
   "metadata": {},
   "source": [
    "#### Extraer SQL con pandas"
   ]
  },
  {
   "cell_type": "code",
   "execution_count": 27,
   "id": "e5cfd424",
   "metadata": {},
   "outputs": [
    {
     "data": {
      "text/html": [
       "<div>\n",
       "<style scoped>\n",
       "    .dataframe tbody tr th:only-of-type {\n",
       "        vertical-align: middle;\n",
       "    }\n",
       "\n",
       "    .dataframe tbody tr th {\n",
       "        vertical-align: top;\n",
       "    }\n",
       "\n",
       "    .dataframe thead th {\n",
       "        text-align: right;\n",
       "    }\n",
       "</style>\n",
       "<table border=\"1\" class=\"dataframe\">\n",
       "  <thead>\n",
       "    <tr style=\"text-align: right;\">\n",
       "      <th></th>\n",
       "      <th>nombre_prod</th>\n",
       "      <th>nombre_cat</th>\n",
       "      <th>precio</th>\n",
       "      <th>existencias</th>\n",
       "    </tr>\n",
       "  </thead>\n",
       "  <tbody>\n",
       "    <tr>\n",
       "      <th>0</th>\n",
       "      <td>Te Dharamsala</td>\n",
       "      <td>comidas</td>\n",
       "      <td>18.00000</td>\n",
       "      <td>390</td>\n",
       "    </tr>\n",
       "    <tr>\n",
       "      <th>1</th>\n",
       "      <td>Cerveza tibetana Barley</td>\n",
       "      <td>comidas</td>\n",
       "      <td>23.09460</td>\n",
       "      <td>17</td>\n",
       "    </tr>\n",
       "    <tr>\n",
       "      <th>2</th>\n",
       "      <td>Sirope de regaliz</td>\n",
       "      <td>bebidas</td>\n",
       "      <td>12.15510</td>\n",
       "      <td>13</td>\n",
       "    </tr>\n",
       "    <tr>\n",
       "      <th>3</th>\n",
       "      <td>Especias Cajun del chef Anton</td>\n",
       "      <td>bebidas</td>\n",
       "      <td>22.00000</td>\n",
       "      <td>53</td>\n",
       "    </tr>\n",
       "    <tr>\n",
       "      <th>4</th>\n",
       "      <td>Mezcla Gumbo del chef Anton</td>\n",
       "      <td>bebidas</td>\n",
       "      <td>25.95110</td>\n",
       "      <td>0</td>\n",
       "    </tr>\n",
       "    <tr>\n",
       "      <th>...</th>\n",
       "      <td>...</td>\n",
       "      <td>...</td>\n",
       "      <td>...</td>\n",
       "      <td>...</td>\n",
       "    </tr>\n",
       "    <tr>\n",
       "      <th>78</th>\n",
       "      <td>Coca Cola</td>\n",
       "      <td>comidas</td>\n",
       "      <td>1.50000</td>\n",
       "      <td>2500</td>\n",
       "    </tr>\n",
       "    <tr>\n",
       "      <th>79</th>\n",
       "      <td>Azafrán Rojo</td>\n",
       "      <td>bebidas</td>\n",
       "      <td>250.00000</td>\n",
       "      <td>150</td>\n",
       "    </tr>\n",
       "    <tr>\n",
       "      <th>80</th>\n",
       "      <td>Pepsi</td>\n",
       "      <td>comidas</td>\n",
       "      <td>1.50000</td>\n",
       "      <td>250</td>\n",
       "    </tr>\n",
       "    <tr>\n",
       "      <th>81</th>\n",
       "      <td>Fanta lima</td>\n",
       "      <td>comidas</td>\n",
       "      <td>1.82326</td>\n",
       "      <td>15</td>\n",
       "    </tr>\n",
       "    <tr>\n",
       "      <th>82</th>\n",
       "      <td>Red Bull</td>\n",
       "      <td>comidas</td>\n",
       "      <td>2.73489</td>\n",
       "      <td>25</td>\n",
       "    </tr>\n",
       "  </tbody>\n",
       "</table>\n",
       "<p>83 rows × 4 columns</p>\n",
       "</div>"
      ],
      "text/plain": [
       "                      nombre_prod nombre_cat     precio  existencias\n",
       "0                   Te Dharamsala    comidas   18.00000          390\n",
       "1         Cerveza tibetana Barley    comidas   23.09460           17\n",
       "2               Sirope de regaliz    bebidas   12.15510           13\n",
       "3   Especias Cajun del chef Anton    bebidas   22.00000           53\n",
       "4     Mezcla Gumbo del chef Anton    bebidas   25.95110            0\n",
       "..                            ...        ...        ...          ...\n",
       "78                      Coca Cola    comidas    1.50000         2500\n",
       "79                   Azafrán Rojo    bebidas  250.00000          150\n",
       "80                          Pepsi    comidas    1.50000          250\n",
       "81                     Fanta lima    comidas    1.82326           15\n",
       "82                       Red Bull    comidas    2.73489           25\n",
       "\n",
       "[83 rows x 4 columns]"
      ]
     },
     "execution_count": 27,
     "metadata": {},
     "output_type": "execute_result"
    }
   ],
   "source": [
    "con = bd.connect(\"empresa3.db\")\n",
    "dt2 = pd.read_sql(sql, con)\n",
    "dt2"
   ]
  },
  {
   "cell_type": "code",
   "execution_count": 28,
   "id": "fc48fd48",
   "metadata": {},
   "outputs": [
    {
     "data": {
      "text/plain": [
       "nombre_cat\n",
       "comidas            17\n",
       "bebidas            13\n",
       "reposteria         13\n",
       "Pescado/Marisco    12\n",
       "Lacteos            10\n",
       "Cereales            7\n",
       "Carnes              6\n",
       "Frutas/Verduras     5\n",
       "Name: count, dtype: int64"
      ]
     },
     "execution_count": 28,
     "metadata": {},
     "output_type": "execute_result"
    }
   ],
   "source": [
    "dt2.nombre_cat.value_counts()"
   ]
  },
  {
   "cell_type": "code",
   "execution_count": null,
   "id": "ace0ec52",
   "metadata": {},
   "outputs": [],
   "source": []
  }
 ],
 "metadata": {
  "kernelspec": {
   "display_name": "Python 3",
   "language": "python",
   "name": "python3"
  },
  "language_info": {
   "codemirror_mode": {
    "name": "ipython",
    "version": 3
   },
   "file_extension": ".py",
   "mimetype": "text/x-python",
   "name": "python",
   "nbconvert_exporter": "python",
   "pygments_lexer": "ipython3",
   "version": "3.9.5"
  }
 },
 "nbformat": 4,
 "nbformat_minor": 5
}
