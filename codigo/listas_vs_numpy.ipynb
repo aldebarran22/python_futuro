{
 "cells": [
  {
   "cell_type": "markdown",
   "metadata": {},
   "source": [
    "## Comparativa List y Numpy"
   ]
  },
  {
   "cell_type": "code",
   "execution_count": 1,
   "metadata": {},
   "outputs": [],
   "source": [
    "from random import randint"
   ]
  },
  {
   "cell_type": "code",
   "execution_count": 2,
   "metadata": {},
   "outputs": [
    {
     "data": {
      "text/plain": [
       "[1, 3, 4, 5, 6, 7]"
      ]
     },
     "execution_count": 2,
     "metadata": {},
     "output_type": "execute_result"
    }
   ],
   "source": [
    "L = [1,3,4,5,6,7]\n",
    "L"
   ]
  },
  {
   "cell_type": "code",
   "execution_count": 3,
   "metadata": {},
   "outputs": [
    {
     "data": {
      "text/plain": [
       "[2, 5, 2, 9, 4, 2]"
      ]
     },
     "execution_count": 3,
     "metadata": {},
     "output_type": "execute_result"
    }
   ],
   "source": [
    "L2 = [randint(1,10) for _ in range(len(L))]\n",
    "L2"
   ]
  },
  {
   "cell_type": "code",
   "execution_count": 4,
   "metadata": {},
   "outputs": [
    {
     "data": {
      "text/plain": [
       "[3, 8, 6, 14, 10, 9]"
      ]
     },
     "execution_count": 4,
     "metadata": {},
     "output_type": "execute_result"
    }
   ],
   "source": [
    "R = []\n",
    "for i, item in enumerate(L):\n",
    "    R.append(L[i]+L2[i])\n",
    "R\n",
    "    "
   ]
  },
  {
   "cell_type": "code",
   "execution_count": 5,
   "metadata": {},
   "outputs": [],
   "source": [
    "import numpy as np"
   ]
  },
  {
   "cell_type": "code",
   "execution_count": 6,
   "metadata": {},
   "outputs": [
    {
     "data": {
      "text/plain": [
       "array([1, 3, 4, 5, 6, 7])"
      ]
     },
     "execution_count": 6,
     "metadata": {},
     "output_type": "execute_result"
    }
   ],
   "source": [
    "a1 = np.array(L)\n",
    "a1"
   ]
  },
  {
   "cell_type": "code",
   "execution_count": 7,
   "metadata": {},
   "outputs": [
    {
     "data": {
      "text/plain": [
       "array([8, 1, 5, 3, 1, 3])"
      ]
     },
     "execution_count": 7,
     "metadata": {},
     "output_type": "execute_result"
    }
   ],
   "source": [
    "a2 = np.random.randint(1,10,len(L))\n",
    "a2"
   ]
  },
  {
   "cell_type": "code",
   "execution_count": 8,
   "metadata": {},
   "outputs": [
    {
     "data": {
      "text/plain": [
       "array([ 9,  4,  9,  8,  7, 10])"
      ]
     },
     "execution_count": 8,
     "metadata": {},
     "output_type": "execute_result"
    }
   ],
   "source": [
    "R2 = a1 + a2\n",
    "R2"
   ]
  },
  {
   "cell_type": "code",
   "execution_count": 9,
   "metadata": {},
   "outputs": [
    {
     "data": {
      "text/plain": [
       "array([[20, 24, 15,  1,  8, 20,  7, 16],\n",
       "       [22, 20, 22,  8, 22, 14, 14, 11],\n",
       "       [18, 22, 10, 18, 14,  7, 21, 20],\n",
       "       [ 3,  1,  2, 23, 10, 13, 12, 20],\n",
       "       [11,  4, 17,  1,  6, 23,  3, 20],\n",
       "       [15, 13, 11,  1,  4, 15,  4, 15],\n",
       "       [13, 14, 12, 16, 12,  5,  6, 17],\n",
       "       [ 9,  2, 12, 22, 20,  8, 11, 17],\n",
       "       [ 7, 13, 14,  4,  2,  2, 19,  8],\n",
       "       [15, 23,  2, 18, 22, 21, 18, 17]])"
      ]
     },
     "execution_count": 9,
     "metadata": {},
     "output_type": "execute_result"
    }
   ],
   "source": [
    "m =  np.random.randint(1,25, (10,8))\n",
    "m"
   ]
  },
  {
   "cell_type": "code",
   "execution_count": 11,
   "metadata": {},
   "outputs": [
    {
     "data": {
      "text/plain": [
       "array([[11, 12, 13,  3,  2, 17, 16, 15],\n",
       "       [23, 24,  4,  5, 20, 17, 11, 21],\n",
       "       [ 3,  1, 20, 15, 22, 18,  8,  8],\n",
       "       [22,  7,  8, 14,  8, 20,  2,  7],\n",
       "       [ 5, 24, 23, 12, 16, 11, 15, 15],\n",
       "       [12,  6, 23, 20,  8,  6,  6, 13],\n",
       "       [17,  5, 24, 11, 16, 15,  8, 11],\n",
       "       [12, 23,  1, 13,  7,  3, 20, 24],\n",
       "       [ 7, 23,  2, 21, 23,  1,  4, 19],\n",
       "       [16, 13,  9, 14, 24,  8, 12, 24]])"
      ]
     },
     "execution_count": 11,
     "metadata": {},
     "output_type": "execute_result"
    }
   ],
   "source": [
    "m2 =  np.random.randint(1,25, (10,8))\n",
    "m2"
   ]
  },
  {
   "cell_type": "code",
   "execution_count": 13,
   "metadata": {},
   "outputs": [
    {
     "data": {
      "text/plain": [
       "array([[31, 36, 28,  4, 10, 37, 23, 31],\n",
       "       [45, 44, 26, 13, 42, 31, 25, 32],\n",
       "       [21, 23, 30, 33, 36, 25, 29, 28],\n",
       "       [25,  8, 10, 37, 18, 33, 14, 27],\n",
       "       [16, 28, 40, 13, 22, 34, 18, 35],\n",
       "       [27, 19, 34, 21, 12, 21, 10, 28],\n",
       "       [30, 19, 36, 27, 28, 20, 14, 28],\n",
       "       [21, 25, 13, 35, 27, 11, 31, 41],\n",
       "       [14, 36, 16, 25, 25,  3, 23, 27],\n",
       "       [31, 36, 11, 32, 46, 29, 30, 41]])"
      ]
     },
     "execution_count": 13,
     "metadata": {},
     "output_type": "execute_result"
    }
   ],
   "source": [
    "suma = m + m2\n",
    "suma"
   ]
  },
  {
   "cell_type": "code",
   "execution_count": 14,
   "metadata": {},
   "outputs": [
    {
     "data": {
      "text/plain": [
       "[1, 2, 3, 4, 5, 6, 7, 5, 4, 3, 2, 1]"
      ]
     },
     "execution_count": 14,
     "metadata": {},
     "output_type": "execute_result"
    }
   ],
   "source": [
    "L1 = [1,2,3,4,5,6]\n",
    "L2 = [7,5,4,3,2,1]\n",
    "\n",
    "L1 + L2"
   ]
  },
  {
   "cell_type": "code",
   "execution_count": null,
   "metadata": {},
   "outputs": [],
   "source": []
  }
 ],
 "metadata": {
  "kernelspec": {
   "display_name": "Python 3",
   "language": "python",
   "name": "python3"
  },
  "language_info": {
   "codemirror_mode": {
    "name": "ipython",
    "version": 3
   },
   "file_extension": ".py",
   "mimetype": "text/x-python",
   "name": "python",
   "nbconvert_exporter": "python",
   "pygments_lexer": "ipython3",
   "version": "3.9.5"
  }
 },
 "nbformat": 4,
 "nbformat_minor": 4
}
