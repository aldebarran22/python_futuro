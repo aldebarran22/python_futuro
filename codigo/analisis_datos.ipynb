{
 "cells": [
  {
   "cell_type": "markdown",
   "id": "ea75bc57-9360-45f2-bf44-3817d8e42799",
   "metadata": {},
   "source": [
    "## Pruebas con la librería pandas y numpy"
   ]
  },
  {
   "cell_type": "code",
   "execution_count": 1,
   "id": "d9fe2b9b-9452-4b6c-a343-f42968ec2e39",
   "metadata": {},
   "outputs": [],
   "source": [
    "import pandas as pd\n",
    "import numpy as np"
   ]
  },
  {
   "cell_type": "code",
   "execution_count": 2,
   "id": "0b0daf0f-c9ad-4759-8d1c-e0d8d9649bff",
   "metadata": {},
   "outputs": [],
   "source": [
    "path = \"Demo_Pandas/Pedidos.csv\""
   ]
  },
  {
   "cell_type": "code",
   "execution_count": 3,
   "id": "95fd0180-3deb-4f36-8131-219b81999e35",
   "metadata": {},
   "outputs": [],
   "source": [
    "dfPedidos = pd.read_csv(path, sep=';')"
   ]
  },
  {
   "cell_type": "code",
   "execution_count": 4,
   "id": "cc1655c0-3be1-44c4-939f-f974dc2cd6d6",
   "metadata": {},
   "outputs": [
    {
     "data": {
      "text/html": [
       "<div>\n",
       "<style scoped>\n",
       "    .dataframe tbody tr th:only-of-type {\n",
       "        vertical-align: middle;\n",
       "    }\n",
       "\n",
       "    .dataframe tbody tr th {\n",
       "        vertical-align: top;\n",
       "    }\n",
       "\n",
       "    .dataframe thead th {\n",
       "        text-align: right;\n",
       "    }\n",
       "</style>\n",
       "<table border=\"1\" class=\"dataframe\">\n",
       "  <thead>\n",
       "    <tr style=\"text-align: right;\">\n",
       "      <th></th>\n",
       "      <th>idpedido</th>\n",
       "      <th>cliente</th>\n",
       "      <th>idempleado</th>\n",
       "      <th>idempresa</th>\n",
       "      <th>importe</th>\n",
       "      <th>pais</th>\n",
       "    </tr>\n",
       "  </thead>\n",
       "  <tbody>\n",
       "    <tr>\n",
       "      <th>0</th>\n",
       "      <td>10248</td>\n",
       "      <td>WILMK</td>\n",
       "      <td>5</td>\n",
       "      <td>3</td>\n",
       "      <td>32.38</td>\n",
       "      <td>Finlandia</td>\n",
       "    </tr>\n",
       "    <tr>\n",
       "      <th>1</th>\n",
       "      <td>10249</td>\n",
       "      <td>TOMSP</td>\n",
       "      <td>6</td>\n",
       "      <td>1</td>\n",
       "      <td>11.61</td>\n",
       "      <td>Alemania</td>\n",
       "    </tr>\n",
       "    <tr>\n",
       "      <th>2</th>\n",
       "      <td>10250</td>\n",
       "      <td>HANAR</td>\n",
       "      <td>4</td>\n",
       "      <td>2</td>\n",
       "      <td>65.83</td>\n",
       "      <td>Brasil</td>\n",
       "    </tr>\n",
       "    <tr>\n",
       "      <th>3</th>\n",
       "      <td>10251</td>\n",
       "      <td>VICTE</td>\n",
       "      <td>3</td>\n",
       "      <td>1</td>\n",
       "      <td>41.34</td>\n",
       "      <td>Francia</td>\n",
       "    </tr>\n",
       "    <tr>\n",
       "      <th>4</th>\n",
       "      <td>10252</td>\n",
       "      <td>SUPRD</td>\n",
       "      <td>4</td>\n",
       "      <td>2</td>\n",
       "      <td>51.30</td>\n",
       "      <td>Belgica</td>\n",
       "    </tr>\n",
       "  </tbody>\n",
       "</table>\n",
       "</div>"
      ],
      "text/plain": [
       "   idpedido cliente  idempleado  idempresa  importe       pais\n",
       "0     10248   WILMK           5          3    32.38  Finlandia\n",
       "1     10249   TOMSP           6          1    11.61   Alemania\n",
       "2     10250   HANAR           4          2    65.83     Brasil\n",
       "3     10251   VICTE           3          1    41.34    Francia\n",
       "4     10252   SUPRD           4          2    51.30    Belgica"
      ]
     },
     "execution_count": 4,
     "metadata": {},
     "output_type": "execute_result"
    }
   ],
   "source": [
    "dfPedidos.head()"
   ]
  },
  {
   "cell_type": "code",
   "execution_count": 5,
   "id": "e32a6c63-6508-42e8-aec0-9cbdda2cfa62",
   "metadata": {},
   "outputs": [
    {
     "data": {
      "text/html": [
       "<div>\n",
       "<style scoped>\n",
       "    .dataframe tbody tr th:only-of-type {\n",
       "        vertical-align: middle;\n",
       "    }\n",
       "\n",
       "    .dataframe tbody tr th {\n",
       "        vertical-align: top;\n",
       "    }\n",
       "\n",
       "    .dataframe thead th {\n",
       "        text-align: right;\n",
       "    }\n",
       "</style>\n",
       "<table border=\"1\" class=\"dataframe\">\n",
       "  <thead>\n",
       "    <tr style=\"text-align: right;\">\n",
       "      <th></th>\n",
       "      <th>idpedido</th>\n",
       "      <th>cliente</th>\n",
       "      <th>idempleado</th>\n",
       "      <th>idempresa</th>\n",
       "      <th>importe</th>\n",
       "      <th>pais</th>\n",
       "    </tr>\n",
       "  </thead>\n",
       "  <tbody>\n",
       "    <tr>\n",
       "      <th>825</th>\n",
       "      <td>11073</td>\n",
       "      <td>PERIC</td>\n",
       "      <td>2</td>\n",
       "      <td>2</td>\n",
       "      <td>24.95</td>\n",
       "      <td>Mexico</td>\n",
       "    </tr>\n",
       "    <tr>\n",
       "      <th>826</th>\n",
       "      <td>11074</td>\n",
       "      <td>SIMOB</td>\n",
       "      <td>7</td>\n",
       "      <td>2</td>\n",
       "      <td>18.44</td>\n",
       "      <td>Dinamarca</td>\n",
       "    </tr>\n",
       "    <tr>\n",
       "      <th>827</th>\n",
       "      <td>11075</td>\n",
       "      <td>RICSU</td>\n",
       "      <td>8</td>\n",
       "      <td>2</td>\n",
       "      <td>6.19</td>\n",
       "      <td>Suiza</td>\n",
       "    </tr>\n",
       "    <tr>\n",
       "      <th>828</th>\n",
       "      <td>11076</td>\n",
       "      <td>BONAP</td>\n",
       "      <td>4</td>\n",
       "      <td>2</td>\n",
       "      <td>38.28</td>\n",
       "      <td>Francia</td>\n",
       "    </tr>\n",
       "    <tr>\n",
       "      <th>829</th>\n",
       "      <td>11077</td>\n",
       "      <td>RATTC</td>\n",
       "      <td>1</td>\n",
       "      <td>2</td>\n",
       "      <td>8.53</td>\n",
       "      <td>Estados Unidos</td>\n",
       "    </tr>\n",
       "  </tbody>\n",
       "</table>\n",
       "</div>"
      ],
      "text/plain": [
       "     idpedido cliente  idempleado  idempresa  importe            pais\n",
       "825     11073   PERIC           2          2    24.95          Mexico\n",
       "826     11074   SIMOB           7          2    18.44       Dinamarca\n",
       "827     11075   RICSU           8          2     6.19           Suiza\n",
       "828     11076   BONAP           4          2    38.28         Francia\n",
       "829     11077   RATTC           1          2     8.53  Estados Unidos"
      ]
     },
     "execution_count": 5,
     "metadata": {},
     "output_type": "execute_result"
    }
   ],
   "source": [
    "dfPedidos.tail()"
   ]
  },
  {
   "cell_type": "code",
   "execution_count": 6,
   "id": "3858849c-60f4-455f-9911-c230401a0e3b",
   "metadata": {},
   "outputs": [
    {
     "data": {
      "text/plain": [
       "(830, 6)"
      ]
     },
     "execution_count": 6,
     "metadata": {},
     "output_type": "execute_result"
    }
   ],
   "source": [
    "dfPedidos.shape"
   ]
  },
  {
   "cell_type": "code",
   "execution_count": 7,
   "id": "bd425756-eca8-4a5a-94a7-3909c1745214",
   "metadata": {},
   "outputs": [
    {
     "name": "stdout",
     "output_type": "stream",
     "text": [
      "<class 'pandas.core.frame.DataFrame'>\n",
      "RangeIndex: 830 entries, 0 to 829\n",
      "Data columns (total 6 columns):\n",
      " #   Column      Non-Null Count  Dtype  \n",
      "---  ------      --------------  -----  \n",
      " 0   idpedido    830 non-null    int64  \n",
      " 1   cliente     830 non-null    object \n",
      " 2   idempleado  830 non-null    int64  \n",
      " 3   idempresa   830 non-null    int64  \n",
      " 4   importe     830 non-null    float64\n",
      " 5   pais        830 non-null    object \n",
      "dtypes: float64(1), int64(3), object(2)\n",
      "memory usage: 39.0+ KB\n"
     ]
    }
   ],
   "source": [
    "dfPedidos.info()"
   ]
  },
  {
   "cell_type": "code",
   "execution_count": 8,
   "id": "d67d6e61-43b6-43f2-8ddf-7d55c9ef7f83",
   "metadata": {},
   "outputs": [
    {
     "data": {
      "text/html": [
       "<div>\n",
       "<style scoped>\n",
       "    .dataframe tbody tr th:only-of-type {\n",
       "        vertical-align: middle;\n",
       "    }\n",
       "\n",
       "    .dataframe tbody tr th {\n",
       "        vertical-align: top;\n",
       "    }\n",
       "\n",
       "    .dataframe thead th {\n",
       "        text-align: right;\n",
       "    }\n",
       "</style>\n",
       "<table border=\"1\" class=\"dataframe\">\n",
       "  <thead>\n",
       "    <tr style=\"text-align: right;\">\n",
       "      <th></th>\n",
       "      <th>idpedido</th>\n",
       "      <th>idempleado</th>\n",
       "      <th>idempresa</th>\n",
       "      <th>importe</th>\n",
       "    </tr>\n",
       "  </thead>\n",
       "  <tbody>\n",
       "    <tr>\n",
       "      <th>count</th>\n",
       "      <td>830.000000</td>\n",
       "      <td>830.000000</td>\n",
       "      <td>830.000000</td>\n",
       "      <td>830.000000</td>\n",
       "    </tr>\n",
       "    <tr>\n",
       "      <th>mean</th>\n",
       "      <td>10662.500000</td>\n",
       "      <td>4.403614</td>\n",
       "      <td>2.008434</td>\n",
       "      <td>78.244205</td>\n",
       "    </tr>\n",
       "    <tr>\n",
       "      <th>std</th>\n",
       "      <td>239.744656</td>\n",
       "      <td>2.499648</td>\n",
       "      <td>0.778899</td>\n",
       "      <td>116.779294</td>\n",
       "    </tr>\n",
       "    <tr>\n",
       "      <th>min</th>\n",
       "      <td>10248.000000</td>\n",
       "      <td>1.000000</td>\n",
       "      <td>1.000000</td>\n",
       "      <td>0.020000</td>\n",
       "    </tr>\n",
       "    <tr>\n",
       "      <th>25%</th>\n",
       "      <td>10455.250000</td>\n",
       "      <td>2.000000</td>\n",
       "      <td>1.000000</td>\n",
       "      <td>13.380000</td>\n",
       "    </tr>\n",
       "    <tr>\n",
       "      <th>50%</th>\n",
       "      <td>10662.500000</td>\n",
       "      <td>4.000000</td>\n",
       "      <td>2.000000</td>\n",
       "      <td>41.360000</td>\n",
       "    </tr>\n",
       "    <tr>\n",
       "      <th>75%</th>\n",
       "      <td>10869.750000</td>\n",
       "      <td>7.000000</td>\n",
       "      <td>3.000000</td>\n",
       "      <td>91.430000</td>\n",
       "    </tr>\n",
       "    <tr>\n",
       "      <th>max</th>\n",
       "      <td>11077.000000</td>\n",
       "      <td>9.000000</td>\n",
       "      <td>3.000000</td>\n",
       "      <td>1007.640000</td>\n",
       "    </tr>\n",
       "  </tbody>\n",
       "</table>\n",
       "</div>"
      ],
      "text/plain": [
       "           idpedido  idempleado   idempresa      importe\n",
       "count    830.000000  830.000000  830.000000   830.000000\n",
       "mean   10662.500000    4.403614    2.008434    78.244205\n",
       "std      239.744656    2.499648    0.778899   116.779294\n",
       "min    10248.000000    1.000000    1.000000     0.020000\n",
       "25%    10455.250000    2.000000    1.000000    13.380000\n",
       "50%    10662.500000    4.000000    2.000000    41.360000\n",
       "75%    10869.750000    7.000000    3.000000    91.430000\n",
       "max    11077.000000    9.000000    3.000000  1007.640000"
      ]
     },
     "execution_count": 8,
     "metadata": {},
     "output_type": "execute_result"
    }
   ],
   "source": [
    "dfPedidos.describe()"
   ]
  },
  {
   "cell_type": "code",
   "execution_count": 9,
   "id": "2449f508-4b42-4484-903a-657805831f33",
   "metadata": {},
   "outputs": [],
   "source": [
    "dfPedidos['iva'] = round(dfPedidos.importe * 0.21, 2)"
   ]
  },
  {
   "cell_type": "code",
   "execution_count": 10,
   "id": "97179b8c-8170-41e9-a935-07cd3b861c37",
   "metadata": {},
   "outputs": [
    {
     "data": {
      "text/html": [
       "<div>\n",
       "<style scoped>\n",
       "    .dataframe tbody tr th:only-of-type {\n",
       "        vertical-align: middle;\n",
       "    }\n",
       "\n",
       "    .dataframe tbody tr th {\n",
       "        vertical-align: top;\n",
       "    }\n",
       "\n",
       "    .dataframe thead th {\n",
       "        text-align: right;\n",
       "    }\n",
       "</style>\n",
       "<table border=\"1\" class=\"dataframe\">\n",
       "  <thead>\n",
       "    <tr style=\"text-align: right;\">\n",
       "      <th></th>\n",
       "      <th>idpedido</th>\n",
       "      <th>cliente</th>\n",
       "      <th>idempleado</th>\n",
       "      <th>idempresa</th>\n",
       "      <th>importe</th>\n",
       "      <th>pais</th>\n",
       "      <th>iva</th>\n",
       "    </tr>\n",
       "  </thead>\n",
       "  <tbody>\n",
       "    <tr>\n",
       "      <th>0</th>\n",
       "      <td>10248</td>\n",
       "      <td>WILMK</td>\n",
       "      <td>5</td>\n",
       "      <td>3</td>\n",
       "      <td>32.38</td>\n",
       "      <td>Finlandia</td>\n",
       "      <td>6.80</td>\n",
       "    </tr>\n",
       "    <tr>\n",
       "      <th>1</th>\n",
       "      <td>10249</td>\n",
       "      <td>TOMSP</td>\n",
       "      <td>6</td>\n",
       "      <td>1</td>\n",
       "      <td>11.61</td>\n",
       "      <td>Alemania</td>\n",
       "      <td>2.44</td>\n",
       "    </tr>\n",
       "    <tr>\n",
       "      <th>2</th>\n",
       "      <td>10250</td>\n",
       "      <td>HANAR</td>\n",
       "      <td>4</td>\n",
       "      <td>2</td>\n",
       "      <td>65.83</td>\n",
       "      <td>Brasil</td>\n",
       "      <td>13.82</td>\n",
       "    </tr>\n",
       "    <tr>\n",
       "      <th>3</th>\n",
       "      <td>10251</td>\n",
       "      <td>VICTE</td>\n",
       "      <td>3</td>\n",
       "      <td>1</td>\n",
       "      <td>41.34</td>\n",
       "      <td>Francia</td>\n",
       "      <td>8.68</td>\n",
       "    </tr>\n",
       "    <tr>\n",
       "      <th>4</th>\n",
       "      <td>10252</td>\n",
       "      <td>SUPRD</td>\n",
       "      <td>4</td>\n",
       "      <td>2</td>\n",
       "      <td>51.30</td>\n",
       "      <td>Belgica</td>\n",
       "      <td>10.77</td>\n",
       "    </tr>\n",
       "  </tbody>\n",
       "</table>\n",
       "</div>"
      ],
      "text/plain": [
       "   idpedido cliente  idempleado  idempresa  importe       pais    iva\n",
       "0     10248   WILMK           5          3    32.38  Finlandia   6.80\n",
       "1     10249   TOMSP           6          1    11.61   Alemania   2.44\n",
       "2     10250   HANAR           4          2    65.83     Brasil  13.82\n",
       "3     10251   VICTE           3          1    41.34    Francia   8.68\n",
       "4     10252   SUPRD           4          2    51.30    Belgica  10.77"
      ]
     },
     "execution_count": 10,
     "metadata": {},
     "output_type": "execute_result"
    }
   ],
   "source": [
    "dfPedidos.head()"
   ]
  },
  {
   "cell_type": "code",
   "execution_count": 13,
   "id": "8fce8758-7811-4a07-984a-2450f3f46947",
   "metadata": {},
   "outputs": [],
   "source": [
    "df2 = dfPedidos[(dfPedidos.pais == 'Finlandia') & (dfPedidos.importe > 100)]"
   ]
  },
  {
   "cell_type": "code",
   "execution_count": 14,
   "id": "867ed662-0b29-4271-a25e-b3c8e70b44ff",
   "metadata": {},
   "outputs": [
    {
     "data": {
      "text/html": [
       "<div>\n",
       "<style scoped>\n",
       "    .dataframe tbody tr th:only-of-type {\n",
       "        vertical-align: middle;\n",
       "    }\n",
       "\n",
       "    .dataframe tbody tr th {\n",
       "        vertical-align: top;\n",
       "    }\n",
       "\n",
       "    .dataframe thead th {\n",
       "        text-align: right;\n",
       "    }\n",
       "</style>\n",
       "<table border=\"1\" class=\"dataframe\">\n",
       "  <thead>\n",
       "    <tr style=\"text-align: right;\">\n",
       "      <th></th>\n",
       "      <th>idpedido</th>\n",
       "      <th>cliente</th>\n",
       "      <th>idempleado</th>\n",
       "      <th>idempresa</th>\n",
       "      <th>importe</th>\n",
       "      <th>pais</th>\n",
       "      <th>iva</th>\n",
       "    </tr>\n",
       "  </thead>\n",
       "  <tbody>\n",
       "    <tr>\n",
       "      <th>22</th>\n",
       "      <td>10270</td>\n",
       "      <td>WARTH</td>\n",
       "      <td>1</td>\n",
       "      <td>1</td>\n",
       "      <td>136.54</td>\n",
       "      <td>Finlandia</td>\n",
       "      <td>28.67</td>\n",
       "    </tr>\n",
       "    <tr>\n",
       "      <th>207</th>\n",
       "      <td>10455</td>\n",
       "      <td>WARTH</td>\n",
       "      <td>8</td>\n",
       "      <td>2</td>\n",
       "      <td>180.45</td>\n",
       "      <td>Finlandia</td>\n",
       "      <td>37.89</td>\n",
       "    </tr>\n",
       "    <tr>\n",
       "      <th>305</th>\n",
       "      <td>10553</td>\n",
       "      <td>WARTH</td>\n",
       "      <td>2</td>\n",
       "      <td>2</td>\n",
       "      <td>149.49</td>\n",
       "      <td>Finlandia</td>\n",
       "      <td>31.39</td>\n",
       "    </tr>\n",
       "  </tbody>\n",
       "</table>\n",
       "</div>"
      ],
      "text/plain": [
       "     idpedido cliente  idempleado  idempresa  importe       pais    iva\n",
       "22      10270   WARTH           1          1   136.54  Finlandia  28.67\n",
       "207     10455   WARTH           8          2   180.45  Finlandia  37.89\n",
       "305     10553   WARTH           2          2   149.49  Finlandia  31.39"
      ]
     },
     "execution_count": 14,
     "metadata": {},
     "output_type": "execute_result"
    }
   ],
   "source": [
    "df2"
   ]
  },
  {
   "cell_type": "code",
   "execution_count": 17,
   "id": "8b206bed-3d4e-4c63-ac47-2cd18e9b6b38",
   "metadata": {},
   "outputs": [],
   "source": [
    "df2.to_excel(\"Demo_pandas/Finlandia.xlsx\", index=False)"
   ]
  },
  {
   "cell_type": "markdown",
   "id": "a936c9f0-18c5-45e8-a5ee-755839cda3be",
   "metadata": {},
   "source": [
    "Vamos a generar un fichero de pedidos por cada país"
   ]
  },
  {
   "cell_type": "code",
   "execution_count": 18,
   "id": "7c273858-cf32-4371-9b25-7e936ceccaca",
   "metadata": {},
   "outputs": [
    {
     "data": {
      "text/plain": [
       "pais\n",
       "Estados Unidos    123\n",
       "Alemania          122\n",
       "Brasil             83\n",
       "Francia            76\n",
       "Reino Unido        55\n",
       "Venezuela          46\n",
       "Austria            40\n",
       "Suecia             38\n",
       "Canada             30\n",
       "Mexico             28\n",
       "Italia             28\n",
       "Espanya            23\n",
       "Finlandia          23\n",
       "Irlanda            19\n",
       "Belgica            19\n",
       "Suiza              18\n",
       "Dinamarca          18\n",
       "Argentina          16\n",
       "Portugal           13\n",
       "Polonia             6\n",
       "Noruega             6\n",
       "Name: count, dtype: int64"
      ]
     },
     "execution_count": 18,
     "metadata": {},
     "output_type": "execute_result"
    }
   ],
   "source": [
    "# Los paises donde se emiten pedidos:\n",
    "dfPedidos.pais.value_counts()"
   ]
  },
  {
   "cell_type": "code",
   "execution_count": 24,
   "id": "57b961fb-5968-4b96-9a4d-7b2ffdd0b161",
   "metadata": {},
   "outputs": [
    {
     "data": {
      "text/plain": [
       "{'Alemania',\n",
       " 'Argentina',\n",
       " 'Austria',\n",
       " 'Belgica',\n",
       " 'Brasil',\n",
       " 'Canada',\n",
       " 'Dinamarca',\n",
       " 'Espanya',\n",
       " 'Estados Unidos',\n",
       " 'Finlandia',\n",
       " 'Francia',\n",
       " 'Irlanda',\n",
       " 'Italia',\n",
       " 'Mexico',\n",
       " 'Noruega',\n",
       " 'Polonia',\n",
       " 'Portugal',\n",
       " 'Reino Unido',\n",
       " 'Suecia',\n",
       " 'Suiza',\n",
       " 'Venezuela'}"
      ]
     },
     "execution_count": 24,
     "metadata": {},
     "output_type": "execute_result"
    }
   ],
   "source": [
    "paises2 = set(dfPedidos.pais.values)\n",
    "len(paises2)\n",
    "paises2"
   ]
  },
  {
   "cell_type": "code",
   "execution_count": 23,
   "id": "c5643e42-1653-48af-aa73-4315850e1497",
   "metadata": {},
   "outputs": [
    {
     "data": {
      "text/plain": [
       "array(['Finlandia', 'Alemania', 'Brasil', 'Francia', 'Belgica', 'Suiza',\n",
       "       'Venezuela', 'Austria', 'Mexico', 'Estados Unidos', 'Suecia',\n",
       "       'Italia', 'Espanya', 'Reino Unido', 'Irlanda', 'Portugal',\n",
       "       'Canada', 'Dinamarca', 'Polonia', 'Noruega', 'Argentina'],\n",
       "      dtype=object)"
      ]
     },
     "execution_count": 23,
     "metadata": {},
     "output_type": "execute_result"
    }
   ],
   "source": [
    "paises = dfPedidos.pais.unique()\n",
    "paises"
   ]
  },
  {
   "cell_type": "code",
   "execution_count": 26,
   "id": "a685d0da-a1bb-4705-9dc0-4bca66e5e269",
   "metadata": {},
   "outputs": [
    {
     "name": "stdout",
     "output_type": "stream",
     "text": [
      "Demo_pandas/paises/Venezuela.xlsx\n",
      "Demo_pandas/paises/Italia.xlsx\n",
      "Demo_pandas/paises/Austria.xlsx\n",
      "Demo_pandas/paises/Suecia.xlsx\n",
      "Demo_pandas/paises/Noruega.xlsx\n",
      "Demo_pandas/paises/Canada.xlsx\n",
      "Demo_pandas/paises/Estados Unidos.xlsx\n",
      "Demo_pandas/paises/Mexico.xlsx\n",
      "Demo_pandas/paises/Francia.xlsx\n",
      "Demo_pandas/paises/Espanya.xlsx\n",
      "Demo_pandas/paises/Suiza.xlsx\n",
      "Demo_pandas/paises/Polonia.xlsx\n",
      "Demo_pandas/paises/Irlanda.xlsx\n",
      "Demo_pandas/paises/Alemania.xlsx\n",
      "Demo_pandas/paises/Brasil.xlsx\n",
      "Demo_pandas/paises/Portugal.xlsx\n",
      "Demo_pandas/paises/Reino Unido.xlsx\n",
      "Demo_pandas/paises/Belgica.xlsx\n",
      "Demo_pandas/paises/Argentina.xlsx\n",
      "Demo_pandas/paises/Dinamarca.xlsx\n",
      "Demo_pandas/paises/Finlandia.xlsx\n"
     ]
    }
   ],
   "source": [
    "for pais in paises2:\n",
    "    pathFichero = f\"Demo_pandas/paises/{pais}.xlsx\"\n",
    "    dfPais = dfPedidos[dfPedidos.pais == pais]\n",
    "    dfPais.to_excel(pathFichero, index=False)\n",
    "    print(pathFichero)"
   ]
  },
  {
   "cell_type": "code",
   "execution_count": 27,
   "id": "7ed0ecb0-c686-4678-a800-961c8e613dc0",
   "metadata": {},
   "outputs": [
    {
     "data": {
      "text/plain": [
       "0      WILMK\n",
       "1      TOMSP\n",
       "2      HANAR\n",
       "3      VICTE\n",
       "4      SUPRD\n",
       "       ...  \n",
       "825    PERIC\n",
       "826    SIMOB\n",
       "827    RICSU\n",
       "828    BONAP\n",
       "829    RATTC\n",
       "Name: cliente, Length: 830, dtype: object"
      ]
     },
     "execution_count": 27,
     "metadata": {},
     "output_type": "execute_result"
    }
   ],
   "source": [
    "# indexar por columna:\n",
    "dfPedidos.cliente"
   ]
  },
  {
   "cell_type": "code",
   "execution_count": 28,
   "id": "bdc18f38-c6c8-4322-b328-d9c1243c5f96",
   "metadata": {},
   "outputs": [
    {
     "data": {
      "text/plain": [
       "'WILMK'"
      ]
     },
     "execution_count": 28,
     "metadata": {},
     "output_type": "execute_result"
    }
   ],
   "source": [
    "dfPedidos.cliente[0]"
   ]
  },
  {
   "cell_type": "code",
   "execution_count": 29,
   "id": "8f3e2332-1f68-4422-b0ed-a2a188e50983",
   "metadata": {},
   "outputs": [
    {
     "data": {
      "text/plain": [
       "idpedido       10250\n",
       "cliente        HANAR\n",
       "idempleado         4\n",
       "idempresa          2\n",
       "importe        65.83\n",
       "pais          Brasil\n",
       "iva            13.82\n",
       "Name: 2, dtype: object"
      ]
     },
     "execution_count": 29,
     "metadata": {},
     "output_type": "execute_result"
    }
   ],
   "source": [
    "dfPedidos.loc[2]"
   ]
  },
  {
   "cell_type": "code",
   "execution_count": 30,
   "id": "60956b69-8790-407b-95a0-af7a21dba76c",
   "metadata": {},
   "outputs": [
    {
     "data": {
      "text/plain": [
       "65.83"
      ]
     },
     "execution_count": 30,
     "metadata": {},
     "output_type": "execute_result"
    }
   ],
   "source": [
    "dfPedidos.loc[2]['importe']"
   ]
  },
  {
   "cell_type": "code",
   "execution_count": null,
   "id": "811f9db7-aca0-4693-859d-3e188cb23d76",
   "metadata": {},
   "outputs": [],
   "source": []
  }
 ],
 "metadata": {
  "kernelspec": {
   "display_name": "Python 3 (ipykernel)",
   "language": "python",
   "name": "python3"
  },
  "language_info": {
   "codemirror_mode": {
    "name": "ipython",
    "version": 3
   },
   "file_extension": ".py",
   "mimetype": "text/x-python",
   "name": "python",
   "nbconvert_exporter": "python",
   "pygments_lexer": "ipython3",
   "version": "3.12.7"
  }
 },
 "nbformat": 4,
 "nbformat_minor": 5
}
