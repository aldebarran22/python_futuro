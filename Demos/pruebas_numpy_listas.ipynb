{
 "cells": [
  {
   "cell_type": "markdown",
   "id": "08ebf47e",
   "metadata": {},
   "source": [
    "# Pruebas con Python"
   ]
  },
  {
   "cell_type": "markdown",
   "id": "3d4f1efc",
   "metadata": {},
   "source": [
    "Pruebas con código para el curso"
   ]
  },
  {
   "cell_type": "code",
   "execution_count": 1,
   "id": "b32265cb",
   "metadata": {},
   "outputs": [],
   "source": [
    "from random import randint\n",
    "import numpy as np"
   ]
  },
  {
   "cell_type": "code",
   "execution_count": 2,
   "id": "dd729306",
   "metadata": {},
   "outputs": [],
   "source": [
    "L1 = [randint(1,10) for _ in range(10)]\n",
    "L2 = [randint(1,10) for _ in range(10)]"
   ]
  },
  {
   "cell_type": "code",
   "execution_count": 3,
   "id": "3941052c",
   "metadata": {},
   "outputs": [
    {
     "data": {
      "text/plain": [
       "[4, 7, 9, 4, 8, 9, 5, 1, 2, 2]"
      ]
     },
     "execution_count": 3,
     "metadata": {},
     "output_type": "execute_result"
    }
   ],
   "source": [
    "L1"
   ]
  },
  {
   "cell_type": "code",
   "execution_count": 4,
   "id": "18539872",
   "metadata": {},
   "outputs": [
    {
     "data": {
      "text/plain": [
       "[1, 9, 1, 7, 3, 10, 8, 10, 4, 5]"
      ]
     },
     "execution_count": 4,
     "metadata": {},
     "output_type": "execute_result"
    }
   ],
   "source": [
    "L2"
   ]
  },
  {
   "cell_type": "code",
   "execution_count": 5,
   "id": "23d23554",
   "metadata": {},
   "outputs": [
    {
     "data": {
      "text/plain": [
       "[5, 16, 10, 11, 11, 19, 13, 11, 6, 7]"
      ]
     },
     "execution_count": 5,
     "metadata": {},
     "output_type": "execute_result"
    }
   ],
   "source": [
    "Lsuma = []\n",
    "for pos, i in  enumerate(L1):\n",
    "    Lsuma.append(L1[pos]+L2[pos])\n",
    "Lsuma"
   ]
  },
  {
   "cell_type": "code",
   "execution_count": 6,
   "id": "9810f751",
   "metadata": {},
   "outputs": [
    {
     "data": {
      "text/plain": [
       "[4, 7, 9, 4, 8, 9, 5, 1, 2, 2, 1, 9, 1, 7, 3, 10, 8, 10, 4, 5]"
      ]
     },
     "execution_count": 6,
     "metadata": {},
     "output_type": "execute_result"
    }
   ],
   "source": [
    "L1 + L2"
   ]
  },
  {
   "cell_type": "code",
   "execution_count": 7,
   "id": "d25dbf65",
   "metadata": {},
   "outputs": [],
   "source": [
    "arr1 = np.array(L1)\n",
    "arr2 = np.array(L2)"
   ]
  },
  {
   "cell_type": "code",
   "execution_count": 8,
   "id": "d5c32bb3",
   "metadata": {},
   "outputs": [
    {
     "data": {
      "text/plain": [
       "array([4, 7, 9, 4, 8, 9, 5, 1, 2, 2])"
      ]
     },
     "execution_count": 8,
     "metadata": {},
     "output_type": "execute_result"
    }
   ],
   "source": [
    "arr1"
   ]
  },
  {
   "cell_type": "code",
   "execution_count": 9,
   "id": "5ec689f1",
   "metadata": {},
   "outputs": [
    {
     "data": {
      "text/plain": [
       "array([ 5, 16, 10, 11, 11, 19, 13, 11,  6,  7])"
      ]
     },
     "execution_count": 9,
     "metadata": {},
     "output_type": "execute_result"
    }
   ],
   "source": [
    "arr1 + arr2"
   ]
  },
  {
   "cell_type": "code",
   "execution_count": 10,
   "id": "5317a91f",
   "metadata": {},
   "outputs": [
    {
     "data": {
      "text/plain": [
       "array([40, 70, 90, 40, 80, 90, 50, 10, 20, 20])"
      ]
     },
     "execution_count": 10,
     "metadata": {},
     "output_type": "execute_result"
    }
   ],
   "source": [
    "a = arr1 * 10\n",
    "a"
   ]
  },
  {
   "cell_type": "code",
   "execution_count": 11,
   "id": "ee08acb3",
   "metadata": {},
   "outputs": [
    {
     "data": {
      "text/plain": [
       "array([[[ 0,  1,  2,  3,  4],\n",
       "        [ 5,  6,  7,  8,  9],\n",
       "        [10, 11, 12, 13, 14],\n",
       "        [15, 16, 17, 18, 19],\n",
       "        [20, 21, 22, 23, 24]],\n",
       "\n",
       "       [[25, 26, 27, 28, 29],\n",
       "        [30, 31, 32, 33, 34],\n",
       "        [35, 36, 37, 38, 39],\n",
       "        [40, 41, 42, 43, 44],\n",
       "        [45, 46, 47, 48, 49]]])"
      ]
     },
     "execution_count": 11,
     "metadata": {},
     "output_type": "execute_result"
    }
   ],
   "source": [
    "m = np.arange(50).reshape(2, 5,-1)\n",
    "m"
   ]
  },
  {
   "cell_type": "code",
   "execution_count": 12,
   "id": "6646870f",
   "metadata": {},
   "outputs": [
    {
     "data": {
      "text/plain": [
       "array([[[ 0,  1,  2,  3,  4],\n",
       "        [ 5,  6,  7,  8,  9],\n",
       "        [10, 11, 12, 13, 14],\n",
       "        [15, 16, 17, 18, 19],\n",
       "        [20, 21, 22, 23, 24]],\n",
       "\n",
       "       [[25, 26, 27, 28, 29],\n",
       "        [30, 31, 32, 33, 34],\n",
       "        [35, 36, 37, 38, 39],\n",
       "        [40, 41, 42, 43, 44],\n",
       "        [45, 46, 47, 48, 49]]])"
      ]
     },
     "execution_count": 12,
     "metadata": {},
     "output_type": "execute_result"
    }
   ],
   "source": [
    "m2 = np.arange(50).reshape(2, 5,-1)\n",
    "m2"
   ]
  },
  {
   "cell_type": "code",
   "execution_count": 13,
   "id": "1e4a1f23",
   "metadata": {},
   "outputs": [
    {
     "data": {
      "text/plain": [
       "array([[[ 0,  2,  4,  6,  8],\n",
       "        [10, 12, 14, 16, 18],\n",
       "        [20, 22, 24, 26, 28],\n",
       "        [30, 32, 34, 36, 38],\n",
       "        [40, 42, 44, 46, 48]],\n",
       "\n",
       "       [[50, 52, 54, 56, 58],\n",
       "        [60, 62, 64, 66, 68],\n",
       "        [70, 72, 74, 76, 78],\n",
       "        [80, 82, 84, 86, 88],\n",
       "        [90, 92, 94, 96, 98]]])"
      ]
     },
     "execution_count": 13,
     "metadata": {},
     "output_type": "execute_result"
    }
   ],
   "source": [
    "m + m2"
   ]
  },
  {
   "cell_type": "code",
   "execution_count": 14,
   "id": "8d5acf26",
   "metadata": {},
   "outputs": [
    {
     "data": {
      "text/plain": [
       "(2, 5, 5)"
      ]
     },
     "execution_count": 14,
     "metadata": {},
     "output_type": "execute_result"
    }
   ],
   "source": [
    "m.shape"
   ]
  },
  {
   "cell_type": "code",
   "execution_count": 15,
   "id": "937dcf8c",
   "metadata": {},
   "outputs": [
    {
     "data": {
      "text/plain": [
       "array([[[ 0, 25],\n",
       "        [ 5, 30],\n",
       "        [10, 35],\n",
       "        [15, 40],\n",
       "        [20, 45]],\n",
       "\n",
       "       [[ 1, 26],\n",
       "        [ 6, 31],\n",
       "        [11, 36],\n",
       "        [16, 41],\n",
       "        [21, 46]],\n",
       "\n",
       "       [[ 2, 27],\n",
       "        [ 7, 32],\n",
       "        [12, 37],\n",
       "        [17, 42],\n",
       "        [22, 47]],\n",
       "\n",
       "       [[ 3, 28],\n",
       "        [ 8, 33],\n",
       "        [13, 38],\n",
       "        [18, 43],\n",
       "        [23, 48]],\n",
       "\n",
       "       [[ 4, 29],\n",
       "        [ 9, 34],\n",
       "        [14, 39],\n",
       "        [19, 44],\n",
       "        [24, 49]]])"
      ]
     },
     "execution_count": 15,
     "metadata": {},
     "output_type": "execute_result"
    }
   ],
   "source": [
    "m.T"
   ]
  },
  {
   "cell_type": "code",
   "execution_count": 16,
   "id": "61585f31",
   "metadata": {},
   "outputs": [
    {
     "data": {
      "text/plain": [
       "array([1.48413159e+02, 8.88611052e+06, 2.20264658e+04, 5.98741417e+04,\n",
       "       5.98741417e+04, 1.78482301e+08, 4.42413392e+05, 5.98741417e+04,\n",
       "       4.03428793e+02, 1.09663316e+03])"
      ]
     },
     "execution_count": 16,
     "metadata": {},
     "output_type": "execute_result"
    }
   ],
   "source": [
    "b = np.exp(Lsuma)\n",
    "b"
   ]
  },
  {
   "cell_type": "code",
   "execution_count": 17,
   "id": "08ce5210",
   "metadata": {},
   "outputs": [
    {
     "data": {
      "text/plain": [
       "array([1.48410000e+02, 8.88611052e+06, 2.20264700e+04, 5.98741400e+04,\n",
       "       5.98741400e+04, 1.78482301e+08, 4.42413390e+05, 5.98741400e+04,\n",
       "       4.03430000e+02, 1.09663000e+03])"
      ]
     },
     "execution_count": 17,
     "metadata": {},
     "output_type": "execute_result"
    }
   ],
   "source": [
    "np.round(b, 2)"
   ]
  },
  {
   "cell_type": "code",
   "execution_count": 18,
   "id": "08c870b7",
   "metadata": {},
   "outputs": [
    {
     "data": {
      "text/plain": [
       "188014122.24175546"
      ]
     },
     "execution_count": 18,
     "metadata": {},
     "output_type": "execute_result"
    }
   ],
   "source": [
    "b.sum()"
   ]
  },
  {
   "cell_type": "code",
   "execution_count": 19,
   "id": "06b9b32e",
   "metadata": {},
   "outputs": [
    {
     "data": {
      "text/plain": [
       "array([55, 44, 22])"
      ]
     },
     "execution_count": 19,
     "metadata": {},
     "output_type": "execute_result"
    }
   ],
   "source": [
    "a = np.array([1,5,6,7,5,55,44,22,11])\n",
    "a[a > 20]"
   ]
  },
  {
   "cell_type": "code",
   "execution_count": 20,
   "id": "08b9fa9a",
   "metadata": {},
   "outputs": [
    {
     "data": {
      "text/plain": [
       "array([ True,  True,  True, False,  True, False, False,  True,  True])"
      ]
     },
     "execution_count": 20,
     "metadata": {},
     "output_type": "execute_result"
    }
   ],
   "source": [
    "b = np.array([1,5,6,-7,5,-55,-44,22,11])\n",
    "a == b"
   ]
  },
  {
   "cell_type": "code",
   "execution_count": 21,
   "id": "4972cb09",
   "metadata": {},
   "outputs": [
    {
     "data": {
      "text/plain": [
       "array([[ 1.        , -0.83552989],\n",
       "       [-0.83552989,  1.        ]])"
      ]
     },
     "execution_count": 21,
     "metadata": {},
     "output_type": "execute_result"
    }
   ],
   "source": [
    "m = np.corrcoef(a,b)\n",
    "m"
   ]
  },
  {
   "cell_type": "code",
   "execution_count": 22,
   "id": "ef522b4a",
   "metadata": {},
   "outputs": [
    {
     "data": {
      "text/plain": [
       "-83.55298905941274"
      ]
     },
     "execution_count": 22,
     "metadata": {},
     "output_type": "execute_result"
    }
   ],
   "source": [
    "porc = m[1][0]\n",
    "porc *= 100\n",
    "porc"
   ]
  },
  {
   "cell_type": "code",
   "execution_count": 23,
   "id": "a4c0fbbd",
   "metadata": {},
   "outputs": [
    {
     "data": {
      "text/plain": [
       "array([12, 33, 55, 51, 44])"
      ]
     },
     "execution_count": 23,
     "metadata": {},
     "output_type": "execute_result"
    }
   ],
   "source": [
    "a = np.array([10, 33, 55,11,44])\n",
    "\n",
    "b = np.array([12, 13, 45,51,44])\n",
    "\n",
    "np.maximum(a,b)"
   ]
  },
  {
   "cell_type": "code",
   "execution_count": 24,
   "id": "1489b4bd",
   "metadata": {},
   "outputs": [
    {
     "data": {
      "text/plain": [
       "array([10, 13, 45, 11, 44])"
      ]
     },
     "execution_count": 24,
     "metadata": {},
     "output_type": "execute_result"
    }
   ],
   "source": [
    "np.minimum(a,b)"
   ]
  },
  {
   "cell_type": "code",
   "execution_count": null,
   "id": "edd4aa92",
   "metadata": {},
   "outputs": [],
   "source": []
  }
 ],
 "metadata": {
  "kernelspec": {
   "display_name": "Python 3 (ipykernel)",
   "language": "python",
   "name": "python3"
  },
  "language_info": {
   "codemirror_mode": {
    "name": "ipython",
    "version": 3
   },
   "file_extension": ".py",
   "mimetype": "text/x-python",
   "name": "python",
   "nbconvert_exporter": "python",
   "pygments_lexer": "ipython3",
   "version": "3.8.5"
  }
 },
 "nbformat": 4,
 "nbformat_minor": 5
}
